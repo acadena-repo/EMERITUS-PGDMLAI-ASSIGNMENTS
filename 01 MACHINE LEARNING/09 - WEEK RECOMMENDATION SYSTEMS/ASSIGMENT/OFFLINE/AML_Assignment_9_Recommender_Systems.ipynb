{
 "cells": [
  {
   "cell_type": "markdown",
   "metadata": {
    "deletable": false,
    "editable": false,
    "nbgrader": {
     "grade": false,
     "locked": true,
     "solution": false
    }
   },
   "source": [
    "# Item Based Recommender System  \n",
    "-------------\n",
    "_Author: Carleton Smith_\n",
    "\n",
    "## Project Guide  \n",
    "-------------\n",
    " - [Project Overview](#project-overview)\n",
    " - [Reading in the Data](#read-in)\n",
    "     - [EDA](#eda)  \n",
    "       \n",
    "       \n",
    " - [Functioning of Recommender Systems](#simple)\n",
    "     - [Predicting Unknown Scores](#pred)  \n",
    "     \n",
    "     \n",
    " - [Return to the Data](#ret)\n",
    " - [Utilization Complexities](#util)\n",
    " - [SVD](#svd)\n",
    " - [Surprise - Python package](#surprise)  \n",
    " \n",
    " <a id = \"project-overview\"></a>\n",
    " ## Project Overview  \n",
    " --------  \n",
    " #### EXPECTED TIME: 2.5 HRS  \n",
    " \n",
    " This project consists of 4 parts:  \n",
    " \n",
    " - General Familiarization with the data.\n",
    " - Mathematical foundations of recommender systems and simple examples about them.\n",
    " - Execution of methods on the data.\n",
    " - Short introduction to the `Surprise` package.   \n",
    " \n",
    "The methods used below should all be familiar from the lectures in week 9. Except for SVD and the `Surprise` package, we will review some main concepts before demonstration.\n",
    "\n",
    "The general goal of this project is, given a collection of users, items, and user reviews of the items, predict what score a user would assign to an item they have yet to review.  \n",
    "\n",
    "We will be working with a synthetic review dataset, modeled on reviews from Amazon. To demonstrate the techniques, in all our examples, we will work only with a smaller portion of the made-up data.\n",
    "\n",
    "**Motivation:** Recommender systems provide a non-parametric comparisons between items. They are fundamentals in analyzing how individuals can be served.\n",
    "\n",
    "**Objectives:**  \n",
    "\n",
    "- Understand mathematical foundations of recommender systems.\n",
    "- Translation of mathematical algorithm into code."
   ]
  },
  {
   "cell_type": "markdown",
   "metadata": {
    "deletable": false,
    "editable": false,
    "nbgrader": {
     "grade": false,
     "locked": true,
     "solution": false
    }
   },
   "source": [
    "<a id=\"questions\"></a>\n",
    "## Questions\n",
    "\n",
    "+ [Question 01](#q01)\n",
    "+ [Question 02](#q02)\n",
    "+ [Question 03](#q03)\n",
    "+ [Question 04](#q04)\n",
    "+ [Question 05](#q05)\n",
    "+ [Question 06](#q06)\n",
    "+ [Question 07](#q07)\n",
    "+ [Question 08](#q08)\n",
    "+ [Question 09](#q09)"
   ]
  },
  {
   "cell_type": "markdown",
   "metadata": {
    "deletable": false,
    "editable": false,
    "nbgrader": {
     "grade": false,
     "locked": true,
     "solution": false
    }
   },
   "source": [
    "### Import the necessary libraries"
   ]
  },
  {
   "cell_type": "code",
   "execution_count": 1,
   "metadata": {
    "deletable": false,
    "editable": false,
    "nbgrader": {
     "grade": false,
     "locked": true,
     "solution": false
    }
   },
   "outputs": [],
   "source": [
    "import numpy as np\n",
    "import pandas as pd\n",
    "import matplotlib.pyplot as plt\n",
    "import seaborn as sns\n",
    "import datetime\n",
    "\n",
    "%matplotlib inline"
   ]
  },
  {
   "cell_type": "markdown",
   "metadata": {
    "deletable": false,
    "editable": false,
    "nbgrader": {
     "grade": false,
     "locked": true,
     "solution": false
    }
   },
   "source": [
    "### Reading the data\n",
    "In the first part of this assignment, we will be using synthetic data modeled from Amazon reviews. A description of the review data and instructions to download the database [can be found here](https://s3.amazonaws.com/amazon-reviews-pds/readme.html).  \n",
    "\n",
    "Below we display a sample of the data taken from Amazon."
   ]
  },
  {
   "cell_type": "code",
   "execution_count": 21,
   "metadata": {},
   "outputs": [
    {
     "data": {
      "text/html": [
       "<div>\n",
       "<style scoped>\n",
       "    .dataframe tbody tr th:only-of-type {\n",
       "        vertical-align: middle;\n",
       "    }\n",
       "\n",
       "    .dataframe tbody tr th {\n",
       "        vertical-align: top;\n",
       "    }\n",
       "\n",
       "    .dataframe thead th {\n",
       "        text-align: right;\n",
       "    }\n",
       "</style>\n",
       "<table border=\"1\" class=\"dataframe\">\n",
       "  <thead>\n",
       "    <tr style=\"text-align: right;\">\n",
       "      <th></th>\n",
       "      <th>marketplace</th>\n",
       "      <th>customer_id</th>\n",
       "      <th>review_id</th>\n",
       "      <th>product_id</th>\n",
       "      <th>product_parent</th>\n",
       "      <th>product_title</th>\n",
       "      <th>product_category</th>\n",
       "      <th>star_rating</th>\n",
       "      <th>helpful_votes</th>\n",
       "      <th>total_votes</th>\n",
       "      <th>vine</th>\n",
       "      <th>verified_purchase</th>\n",
       "      <th>review_headline</th>\n",
       "      <th>review_body</th>\n",
       "      <th>review_date</th>\n",
       "    </tr>\n",
       "  </thead>\n",
       "  <tbody>\n",
       "    <tr>\n",
       "      <th>0</th>\n",
       "      <td>US</td>\n",
       "      <td>18778586</td>\n",
       "      <td>RDIJS7QYB6XNR</td>\n",
       "      <td>B00EDBY7X8</td>\n",
       "      <td>122952789</td>\n",
       "      <td>Monopoly Junior Board Game</td>\n",
       "      <td>Toys</td>\n",
       "      <td>5</td>\n",
       "      <td>0</td>\n",
       "      <td>0</td>\n",
       "      <td>N</td>\n",
       "      <td>Y</td>\n",
       "      <td>Five Stars</td>\n",
       "      <td>Excellent!!!</td>\n",
       "      <td>2015-08-31</td>\n",
       "    </tr>\n",
       "  </tbody>\n",
       "</table>\n",
       "</div>"
      ],
      "text/plain": [
       "  marketplace  customer_id      review_id  product_id  product_parent  \\\n",
       "0          US     18778586  RDIJS7QYB6XNR  B00EDBY7X8       122952789   \n",
       "\n",
       "                product_title product_category  star_rating  helpful_votes  \\\n",
       "0  Monopoly Junior Board Game             Toys            5              0   \n",
       "\n",
       "   total_votes vine verified_purchase review_headline   review_body  \\\n",
       "0            0    N                 Y      Five Stars  Excellent!!!   \n",
       "\n",
       "  review_date  \n",
       "0  2015-08-31  "
      ]
     },
     "execution_count": 21,
     "metadata": {},
     "output_type": "execute_result"
    }
   ],
   "source": [
    "# sample_data_path = \"https://s3.amazonaws.com/amazon-reviews-/sample_us.tsv\"\n",
    "sample_data_path = \"./data/sample_us.tsv\"\n",
    "# rev_df = pd.read_table(sample_data_path)\n",
    "rev_df = pd.read_csv(sample_data_path, sep = '\\t')\n",
    "rev_df.head(1)"
   ]
  },
  {
   "cell_type": "markdown",
   "metadata": {
    "deletable": false,
    "editable": false,
    "nbgrader": {
     "grade": false,
     "locked": true,
     "solution": false
    }
   },
   "source": [
    "#### Looking at our raw data\n",
    "\n",
    "Although Natural Language Processing (NLP) might offer insight into the structure of reviews, for this assignment, we are only interested in the customers (`costumer_id`), the products (`product_id`), and the scores (`star_rating`) that each costumer assigned to a particular product."
   ]
  },
  {
   "cell_type": "code",
   "execution_count": 22,
   "metadata": {},
   "outputs": [
    {
     "data": {
      "text/html": [
       "<div>\n",
       "<style scoped>\n",
       "    .dataframe tbody tr th:only-of-type {\n",
       "        vertical-align: middle;\n",
       "    }\n",
       "\n",
       "    .dataframe tbody tr th {\n",
       "        vertical-align: top;\n",
       "    }\n",
       "\n",
       "    .dataframe thead th {\n",
       "        text-align: right;\n",
       "    }\n",
       "</style>\n",
       "<table border=\"1\" class=\"dataframe\">\n",
       "  <thead>\n",
       "    <tr style=\"text-align: right;\">\n",
       "      <th></th>\n",
       "      <th>customer_id</th>\n",
       "      <th>product_id</th>\n",
       "      <th>score</th>\n",
       "    </tr>\n",
       "  </thead>\n",
       "  <tbody>\n",
       "    <tr>\n",
       "      <th>0</th>\n",
       "      <td>18778586</td>\n",
       "      <td>B00EDBY7X8</td>\n",
       "      <td>5</td>\n",
       "    </tr>\n",
       "    <tr>\n",
       "      <th>1</th>\n",
       "      <td>24769659</td>\n",
       "      <td>B00D7JFOPC</td>\n",
       "      <td>5</td>\n",
       "    </tr>\n",
       "    <tr>\n",
       "      <th>2</th>\n",
       "      <td>44331596</td>\n",
       "      <td>B002LHA74O</td>\n",
       "      <td>2</td>\n",
       "    </tr>\n",
       "    <tr>\n",
       "      <th>3</th>\n",
       "      <td>23310293</td>\n",
       "      <td>B00ARPLCGY</td>\n",
       "      <td>5</td>\n",
       "    </tr>\n",
       "    <tr>\n",
       "      <th>4</th>\n",
       "      <td>38745832</td>\n",
       "      <td>B00UZOPOFW</td>\n",
       "      <td>1</td>\n",
       "    </tr>\n",
       "  </tbody>\n",
       "</table>\n",
       "</div>"
      ],
      "text/plain": [
       "   customer_id  product_id  score\n",
       "0     18778586  B00EDBY7X8      5\n",
       "1     24769659  B00D7JFOPC      5\n",
       "2     44331596  B002LHA74O      2\n",
       "3     23310293  B00ARPLCGY      5\n",
       "4     38745832  B00UZOPOFW      1"
      ]
     },
     "execution_count": 22,
     "metadata": {},
     "output_type": "execute_result"
    }
   ],
   "source": [
    "##NOTAR QUE ESTE METODO REQUIERE ESPECIFICAR TODAS LAS COLUMNAS EN EL DATAFRAM, MIENTRAS QUE EL METODO <.remane()>\n",
    "##ES CAPAZ DE RENOMBRAR COLUMNAS ESPECIFICAS, ADEMAS DE QUE PUEDE SER UTILIZADO(A) UN DICCIONARIO O UNA FUNCION \n",
    "rev_df = rev_df[['customer_id','product_id', 'star_rating']]\n",
    "rev_df.columns = ['customer_id', 'product_id', 'score']\n",
    "rev_df.head()"
   ]
  },
  {
   "cell_type": "code",
   "execution_count": 8,
   "metadata": {
    "deletable": false,
    "editable": false,
    "nbgrader": {
     "grade": false,
     "locked": true,
     "solution": false
    }
   },
   "outputs": [
    {
     "data": {
      "text/html": [
       "<div>\n",
       "<style scoped>\n",
       "    .dataframe tbody tr th:only-of-type {\n",
       "        vertical-align: middle;\n",
       "    }\n",
       "\n",
       "    .dataframe tbody tr th {\n",
       "        vertical-align: top;\n",
       "    }\n",
       "\n",
       "    .dataframe thead th {\n",
       "        text-align: right;\n",
       "    }\n",
       "</style>\n",
       "<table border=\"1\" class=\"dataframe\">\n",
       "  <thead>\n",
       "    <tr style=\"text-align: right;\">\n",
       "      <th></th>\n",
       "      <th>customer_id</th>\n",
       "      <th>product_id</th>\n",
       "      <th>score</th>\n",
       "    </tr>\n",
       "  </thead>\n",
       "  <tbody>\n",
       "    <tr>\n",
       "      <th>0</th>\n",
       "      <td>18778586</td>\n",
       "      <td>B00EDBY7X8</td>\n",
       "      <td>5</td>\n",
       "    </tr>\n",
       "    <tr>\n",
       "      <th>1</th>\n",
       "      <td>24769659</td>\n",
       "      <td>B00D7JFOPC</td>\n",
       "      <td>5</td>\n",
       "    </tr>\n",
       "    <tr>\n",
       "      <th>2</th>\n",
       "      <td>44331596</td>\n",
       "      <td>B002LHA74O</td>\n",
       "      <td>2</td>\n",
       "    </tr>\n",
       "    <tr>\n",
       "      <th>3</th>\n",
       "      <td>23310293</td>\n",
       "      <td>B00ARPLCGY</td>\n",
       "      <td>5</td>\n",
       "    </tr>\n",
       "    <tr>\n",
       "      <th>4</th>\n",
       "      <td>38745832</td>\n",
       "      <td>B00UZOPOFW</td>\n",
       "      <td>1</td>\n",
       "    </tr>\n",
       "  </tbody>\n",
       "</table>\n",
       "</div>"
      ],
      "text/plain": [
       "   customer_id  product_id  score\n",
       "0     18778586  B00EDBY7X8      5\n",
       "1     24769659  B00D7JFOPC      5\n",
       "2     44331596  B002LHA74O      2\n",
       "3     23310293  B00ARPLCGY      5\n",
       "4     38745832  B00UZOPOFW      1"
      ]
     },
     "execution_count": 8,
     "metadata": {},
     "output_type": "execute_result"
    }
   ],
   "source": [
    "rev_df = rev_df[['customer_id','product_id', 'star_rating']]\n",
    "rev_df.rename(columns= {'star_rating':'score'}, inplace=True)\n",
    "rev_df.head()"
   ]
  },
  {
   "cell_type": "code",
   "execution_count": 48,
   "metadata": {},
   "outputs": [
    {
     "data": {
      "text/plain": [
       "49"
      ]
     },
     "execution_count": 48,
     "metadata": {},
     "output_type": "execute_result"
    }
   ],
   "source": [
    "rev_df['product_id'].count()"
   ]
  },
  {
   "cell_type": "markdown",
   "metadata": {
    "deletable": false,
    "editable": false,
    "nbgrader": {
     "grade": false,
     "locked": true,
     "solution": false
    }
   },
   "source": [
    "<a id=\"q01\"></a>\n",
    "[Return to top](#questions)\n",
    "\n",
    "### Question 01\n",
    "\n",
    "Above, in our `ref_df` Database, we used the attribute `rename` to rename the column `star_rating` as `score` by passing a dictionary as a parameter.\n",
    "\n",
    "Which other object, when passed to `columns`, would have yielded the same result?\n",
    "\n",
    "- a) \"reviewerID, productID, score\"\n",
    "- b) \"['asin':'productID','overall':'score']\"\n",
    "- c) \"['customer_id', 'product_id', 'score']\"\n",
    "- d) None of the above.\n",
    "\n",
    "Assign the letter associated with your choice as a string to ans1."
   ]
  },
  {
   "cell_type": "code",
   "execution_count": 23,
   "metadata": {},
   "outputs": [],
   "source": [
    "### GRADED\n",
    "#Which other object, when passed to `columns`, would have yielded the same result?\n",
    "#a) \"reviewerID, productID, score\"\n",
    "#b) \"['asin':'productID','overall':'score']\"\n",
    "#c) \"['customer_id', 'product_id', 'score']\"\n",
    "#d) None of the above.\n",
    "\n",
    "#Assign the letter associated with your choice as a string to ans1.\n",
    "### YOUR SOLUTION HERE\n",
    "ans1 = 'c'\n",
    "###\n",
    "### YOUR CODE HERE\n",
    "###\n"
   ]
  },
  {
   "cell_type": "code",
   "execution_count": 24,
   "metadata": {
    "deletable": false,
    "editable": false,
    "nbgrader": {
     "grade": true,
     "grade_id": "Q-01",
     "locked": true,
     "points": "5",
     "solution": false
    }
   },
   "outputs": [],
   "source": [
    "###\n",
    "### AUTOGRADER TEST - DO NOT REMOVE\n",
    "###\n"
   ]
  },
  {
   "cell_type": "markdown",
   "metadata": {
    "deletable": false,
    "editable": false,
    "nbgrader": {
     "grade": false,
     "locked": true,
     "solution": false
    }
   },
   "source": [
    "Although this is not strictly necessary, we can modify the values in columns customer_id and product_id to make them a little easier to read.  \n",
    "\n",
    "We will do so by building two dictionaries: one for `costumer_id` and the other one for `product_id` in the following way.\n",
    "\n",
    "Let the keys for your dictionary be all the *n unique* values of `costumer_id`. Rewrite such values to read \"R\" followed by a number ###, from 0 to n, such that each unique key is mapped to a unique string of the format `R###`. We do the same for the products, but using \"P\" as a prefix instead."
   ]
  },
  {
   "cell_type": "code",
   "execution_count": 25,
   "metadata": {
    "deletable": false,
    "editable": false,
    "nbgrader": {
     "grade": false,
     "locked": true,
     "solution": false
    }
   },
   "outputs": [
    {
     "name": "stdout",
     "output_type": "stream",
     "text": [
      "B00EDBY7X8 : P0\n",
      "B00D7JFOPC : P1\n",
      "B002LHA74O : P2\n",
      "B00ARPLCGY : P3\n",
      "B00UZOPOFW : P4\n",
      "length:  49\n"
     ]
    }
   ],
   "source": [
    "rID_dict = {rID:'R'+ str(idx) for idx, rID in enumerate(rev_df['customer_id'].unique()) }\n",
    "pID_dict = {pID:'P'+ str(idx) for idx, pID in enumerate(rev_df['product_id'].unique()) }\n",
    "\n",
    "\n",
    "### Checking the values in the dictionaries below for products.\n",
    "for k in list(pID_dict.keys())[:5]:\n",
    "    print(k, \":\",pID_dict[k])\n",
    "print(\"length: \",len(pID_dict))"
   ]
  },
  {
   "cell_type": "markdown",
   "metadata": {
    "deletable": false,
    "editable": false,
    "nbgrader": {
     "grade": false,
     "locked": true,
     "solution": false
    }
   },
   "source": [
    "Next, we rename the costumers and products IDs in our dataset."
   ]
  },
  {
   "cell_type": "code",
   "execution_count": 49,
   "metadata": {
    "deletable": false,
    "editable": false,
    "nbgrader": {
     "grade": false,
     "locked": true,
     "solution": false
    }
   },
   "outputs": [
    {
     "data": {
      "text/html": [
       "<div>\n",
       "<style scoped>\n",
       "    .dataframe tbody tr th:only-of-type {\n",
       "        vertical-align: middle;\n",
       "    }\n",
       "\n",
       "    .dataframe tbody tr th {\n",
       "        vertical-align: top;\n",
       "    }\n",
       "\n",
       "    .dataframe thead th {\n",
       "        text-align: right;\n",
       "    }\n",
       "</style>\n",
       "<table border=\"1\" class=\"dataframe\">\n",
       "  <thead>\n",
       "    <tr style=\"text-align: right;\">\n",
       "      <th></th>\n",
       "      <th>customer_id</th>\n",
       "      <th>product_id</th>\n",
       "      <th>score</th>\n",
       "    </tr>\n",
       "  </thead>\n",
       "  <tbody>\n",
       "    <tr>\n",
       "      <th>0</th>\n",
       "      <td>R0</td>\n",
       "      <td>P0</td>\n",
       "      <td>5</td>\n",
       "    </tr>\n",
       "    <tr>\n",
       "      <th>1</th>\n",
       "      <td>R1</td>\n",
       "      <td>P1</td>\n",
       "      <td>5</td>\n",
       "    </tr>\n",
       "    <tr>\n",
       "      <th>2</th>\n",
       "      <td>R2</td>\n",
       "      <td>P2</td>\n",
       "      <td>2</td>\n",
       "    </tr>\n",
       "    <tr>\n",
       "      <th>3</th>\n",
       "      <td>R3</td>\n",
       "      <td>P3</td>\n",
       "      <td>5</td>\n",
       "    </tr>\n",
       "    <tr>\n",
       "      <th>4</th>\n",
       "      <td>R4</td>\n",
       "      <td>P4</td>\n",
       "      <td>1</td>\n",
       "    </tr>\n",
       "  </tbody>\n",
       "</table>\n",
       "</div>"
      ],
      "text/plain": [
       "  customer_id product_id  score\n",
       "0          R0         P0      5\n",
       "1          R1         P1      5\n",
       "2          R2         P2      2\n",
       "3          R3         P3      5\n",
       "4          R4         P4      1"
      ]
     },
     "execution_count": 49,
     "metadata": {},
     "output_type": "execute_result"
    }
   ],
   "source": [
    "rev_df.loc[:, 'product_id'] = rev_df.loc[:,'product_id'].map(pID_dict)\n",
    "rev_df.loc[:, 'customer_id'] = rev_df.loc[:,'customer_id'].map(rID_dict)\n",
    "\n",
    "rev_df.head()"
   ]
  },
  {
   "cell_type": "markdown",
   "metadata": {
    "deletable": false,
    "editable": false,
    "nbgrader": {
     "grade": false,
     "locked": true,
     "solution": false
    }
   },
   "source": [
    "<a id = \"Exploratory Data Analysis\"></a>\n",
    "### Exploratory Data Analysis (EDA)\n",
    "Having gone through the process of cleaning and analyzing the data, we will load a more extensive synthetic dataset and perform some light EDA to look at the distributions of the data."
   ]
  },
  {
   "cell_type": "code",
   "execution_count": 50,
   "metadata": {
    "deletable": false,
    "editable": false,
    "nbgrader": {
     "grade": false,
     "locked": true,
     "solution": false
    }
   },
   "outputs": [
    {
     "data": {
      "text/html": [
       "<div>\n",
       "<style scoped>\n",
       "    .dataframe tbody tr th:only-of-type {\n",
       "        vertical-align: middle;\n",
       "    }\n",
       "\n",
       "    .dataframe tbody tr th {\n",
       "        vertical-align: top;\n",
       "    }\n",
       "\n",
       "    .dataframe thead th {\n",
       "        text-align: right;\n",
       "    }\n",
       "</style>\n",
       "<table border=\"1\" class=\"dataframe\">\n",
       "  <thead>\n",
       "    <tr style=\"text-align: right;\">\n",
       "      <th></th>\n",
       "      <th>reviewerID</th>\n",
       "      <th>productID</th>\n",
       "      <th>score</th>\n",
       "    </tr>\n",
       "  </thead>\n",
       "  <tbody>\n",
       "    <tr>\n",
       "      <th>0</th>\n",
       "      <td>R0</td>\n",
       "      <td>P6181</td>\n",
       "      <td>5</td>\n",
       "    </tr>\n",
       "    <tr>\n",
       "      <th>1</th>\n",
       "      <td>R0</td>\n",
       "      <td>P2276</td>\n",
       "      <td>2</td>\n",
       "    </tr>\n",
       "    <tr>\n",
       "      <th>2</th>\n",
       "      <td>R0</td>\n",
       "      <td>P1382</td>\n",
       "      <td>5</td>\n",
       "    </tr>\n",
       "    <tr>\n",
       "      <th>3</th>\n",
       "      <td>R0</td>\n",
       "      <td>P4797</td>\n",
       "      <td>5</td>\n",
       "    </tr>\n",
       "    <tr>\n",
       "      <th>4</th>\n",
       "      <td>R0</td>\n",
       "      <td>P281</td>\n",
       "      <td>1</td>\n",
       "    </tr>\n",
       "  </tbody>\n",
       "</table>\n",
       "</div>"
      ],
      "text/plain": [
       "  reviewerID productID  score\n",
       "0         R0     P6181      5\n",
       "1         R0     P2276      2\n",
       "2         R0     P1382      5\n",
       "3         R0     P4797      5\n",
       "4         R0      P281      1"
      ]
     },
     "execution_count": 50,
     "metadata": {},
     "output_type": "execute_result"
    }
   ],
   "source": [
    "# Reading the data\n",
    "synth_data_path = \"./data/synthetic_reviews.csv\"\n",
    "\n",
    "rev_df = pd.read_csv(synth_data_path)\n",
    "rev_df.head()"
   ]
  },
  {
   "cell_type": "markdown",
   "metadata": {
    "deletable": false,
    "editable": false,
    "nbgrader": {
     "grade": false,
     "locked": true,
     "solution": false
    }
   },
   "source": [
    "First, we visualize how many products got a score of 5, 4, 3, 2, or 1. "
   ]
  },
  {
   "cell_type": "code",
   "execution_count": 51,
   "metadata": {
    "deletable": false,
    "editable": false,
    "nbgrader": {
     "grade": false,
     "locked": true,
     "solution": false
    }
   },
   "outputs": [
    {
     "data": {
      "image/png": "[encoded data removed]",
      "text/plain": [
       "<Figure size 432x288 with 1 Axes>"
      ]
     },
     "metadata": {
      "needs_background": "light"
     },
     "output_type": "display_data"
    }
   ],
   "source": [
    "rev_df['score'].value_counts().plot(kind = 'bar');"
   ]
  },
  {
   "cell_type": "markdown",
   "metadata": {
    "deletable": false,
    "editable": false,
    "nbgrader": {
     "grade": false,
     "locked": true,
     "solution": false
    }
   },
   "source": [
    "Next, we count how many products received a specific score."
   ]
  },
  {
   "cell_type": "code",
   "execution_count": 52,
   "metadata": {
    "deletable": false,
    "editable": false,
    "nbgrader": {
     "grade": false,
     "locked": true,
     "solution": false
    }
   },
   "outputs": [
    {
     "data": {
      "text/plain": [
       "5    65826\n",
       "4    29717\n",
       "3    12352\n",
       "2     5604\n",
       "1     4981\n",
       "Name: score, dtype: int64"
      ]
     },
     "execution_count": 52,
     "metadata": {},
     "output_type": "execute_result"
    }
   ],
   "source": [
    "rev_df['score'].value_counts()"
   ]
  },
  {
   "cell_type": "markdown",
   "metadata": {
    "deletable": false,
    "editable": false,
    "nbgrader": {
     "grade": false,
     "locked": true,
     "solution": false
    }
   },
   "source": [
    "We notice that there is an interesting preponderance of products with score 5. \n",
    "\n",
    "We continue by ranking the product from the ones that had the most reviews to the ones that had the least. We display the first 15 and the last 5 rows of this ranking."
   ]
  },
  {
   "cell_type": "code",
   "execution_count": 58,
   "metadata": {},
   "outputs": [
    {
     "data": {
      "text/plain": [
       "6    479\n",
       "7    459\n",
       "5    403\n",
       "8    377\n",
       "9    377\n",
       "Name: productID, dtype: int64"
      ]
     },
     "execution_count": 58,
     "metadata": {},
     "output_type": "execute_result"
    }
   ],
   "source": [
    "rev_df['productID'].value_counts().value_counts().head()"
   ]
  },
  {
   "cell_type": "code",
   "execution_count": 59,
   "metadata": {},
   "outputs": [
    {
     "data": {
      "text/plain": [
       "0         P6181\n",
       "1         P2276\n",
       "2         P1382\n",
       "3         P4797\n",
       "4          P281\n",
       "5         P5556\n",
       "6         P1523\n",
       "7         P4693\n",
       "8         P5494\n",
       "9         P2245\n",
       "10        P4534\n",
       "11        P5629\n",
       "12         P198\n",
       "13        P2800\n",
       "14        P5296\n",
       "15        P5179\n",
       "16        P5252\n",
       "17        P2850\n",
       "18          P36\n",
       "19        P5214\n",
       "20        P6225\n",
       "21        P3668\n",
       "22        P3584\n",
       "23        P3469\n",
       "24        P4391\n",
       "25        P5113\n",
       "26        P2210\n",
       "27        P1073\n",
       "28        P5693\n",
       "29        P3523\n",
       "          ...  \n",
       "118450    P4888\n",
       "118451    P5862\n",
       "118452    P1942\n",
       "118453    P4816\n",
       "118454     P502\n",
       "118455    P2489\n",
       "118456    P2348\n",
       "118457    P3649\n",
       "118458    P6371\n",
       "118459    P1408\n",
       "118460    P5657\n",
       "118461    P3607\n",
       "118462    P2662\n",
       "118463    P3178\n",
       "118464    P3938\n",
       "118465     P666\n",
       "118466    P2582\n",
       "118467    P1621\n",
       "118468    P3990\n",
       "118469    P1463\n",
       "118470    P1543\n",
       "118471    P2553\n",
       "118472    P4151\n",
       "118473    P6191\n",
       "118474     P890\n",
       "118475    P5487\n",
       "118476    P3461\n",
       "118477    P3436\n",
       "118478     P540\n",
       "118479    P6311\n",
       "Name: productID, Length: 118480, dtype: object"
      ]
     },
     "execution_count": 59,
     "metadata": {},
     "output_type": "execute_result"
    }
   ],
   "source": [
    "rev_df['productID']"
   ]
  },
  {
   "cell_type": "code",
   "execution_count": 53,
   "metadata": {
    "deletable": false,
    "editable": false,
    "nbgrader": {
     "grade": false,
     "locked": true,
     "solution": false
    }
   },
   "outputs": [
    {
     "name": "stdout",
     "output_type": "stream",
     "text": [
      "Reviews per product, top and bottom reviewed\n",
      "\n",
      "P4407    302\n",
      "P6092    290\n",
      "P677     264\n",
      "P4492    250\n",
      "P1099    210\n",
      "P2535    191\n",
      "P1959    190\n",
      "P4597    189\n",
      "P3829    188\n",
      "P2214    184\n",
      "P3579    183\n",
      "P540     180\n",
      "P2245    178\n",
      "P3437    176\n",
      "P3342    172\n",
      "Name: productID, dtype: int64\n",
      "P3174    1\n",
      "P2598    1\n",
      "P4911    1\n",
      "P2363    1\n",
      "P3       1\n",
      "Name: productID, dtype: int64\n"
     ]
    }
   ],
   "source": [
    "print(\"Reviews per product, top and bottom reviewed\\n\")\n",
    "#Display first 15 rows\n",
    "print(rev_df['productID'].value_counts()[:15])\n",
    "#Display last 5 rows\n",
    "print(rev_df['productID'].value_counts()[-5:])"
   ]
  },
  {
   "cell_type": "markdown",
   "metadata": {
    "deletable": false,
    "editable": false,
    "nbgrader": {
     "grade": false,
     "locked": true,
     "solution": false
    }
   },
   "source": [
    "Below, we visualize the ranking defined above."
   ]
  },
  {
   "cell_type": "code",
   "execution_count": 54,
   "metadata": {
    "deletable": false,
    "editable": false,
    "nbgrader": {
     "grade": false,
     "locked": true,
     "solution": false
    }
   },
   "outputs": [
    {
     "data": {
      "image/png": "[encoded data removed]",
      "text/plain": [
       "<Figure size 720x504 with 1 Axes>"
      ]
     },
     "metadata": {
      "needs_background": "light"
     },
     "output_type": "display_data"
    }
   ],
   "source": [
    "product_w_n_reviews = rev_df['productID'].value_counts().value_counts()\n",
    "plt.figure(figsize = (10,7))\n",
    "plt.scatter(product_w_n_reviews.index, product_w_n_reviews)\n",
    "plt.xlabel(\"Number of Reviews\", fontsize = 16)\n",
    "plt.ylabel(\"Number of Products\", fontsize = 16);"
   ]
  },
  {
   "cell_type": "markdown",
   "metadata": {
    "deletable": false,
    "editable": false,
    "nbgrader": {
     "grade": false,
     "locked": true,
     "solution": false
    }
   },
   "source": [
    "The above graph seem to be on a log-normal scale. \n",
    "\n",
    "In reality, the graph displayed has the shape of a \"hollow curve\". The log-normal appearance is an artifact of the data synthesis.\n",
    "\n",
    "We will continue our EDA by ranking which costumers gave the most and least number of reviews."
   ]
  },
  {
   "cell_type": "code",
   "execution_count": 60,
   "metadata": {
    "deletable": false,
    "editable": false,
    "nbgrader": {
     "grade": false,
     "locked": true,
     "solution": false
    }
   },
   "outputs": [
    {
     "name": "stdout",
     "output_type": "stream",
     "text": [
      "Reviews per reviewer, top and bottom reviewers\n",
      "\n",
      "R8577    578\n",
      "R8247    578\n",
      "R2603    375\n",
      "R3429    375\n",
      "R4759    375\n",
      "R9317    301\n",
      "R1396    301\n",
      "R3559    261\n",
      "R830     256\n",
      "R8531    256\n",
      "R8114    246\n",
      "R6324    246\n",
      "R4022    246\n",
      "R6339    246\n",
      "R4749    200\n",
      "Name: reviewerID, dtype: int64\n",
      "R2676    5\n",
      "R3594    5\n",
      "R1124    5\n",
      "R2028    5\n",
      "R2926    5\n",
      "Name: reviewerID, dtype: int64\n"
     ]
    }
   ],
   "source": [
    "print(\"Reviews per reviewer, top and bottom reviewers\\n\")\n",
    "print(rev_df['reviewerID'].value_counts()[:15])\n",
    "print(rev_df['reviewerID'].value_counts()[-5:])"
   ]
  },
  {
   "cell_type": "markdown",
   "metadata": {
    "deletable": false,
    "editable": false,
    "nbgrader": {
     "grade": false,
     "locked": true,
     "solution": false
    }
   },
   "source": [
    "Again, we visualize the ranking defined above."
   ]
  },
  {
   "cell_type": "code",
   "execution_count": 61,
   "metadata": {
    "deletable": false,
    "editable": false,
    "nbgrader": {
     "grade": false,
     "locked": true,
     "solution": false
    }
   },
   "outputs": [
    {
     "data": {
      "image/png": "[encoded data removed]",
      "text/plain": [
       "<Figure size 720x504 with 1 Axes>"
      ]
     },
     "metadata": {
      "needs_background": "light"
     },
     "output_type": "display_data"
    }
   ],
   "source": [
    "product_w_n_reviews = rev_df['reviewerID'].value_counts().value_counts()\n",
    "plt.figure(figsize = (10,7))\n",
    "plt.scatter(product_w_n_reviews.index, product_w_n_reviews)\n",
    "plt.xlabel(\"Number of Reviews\", fontsize = 16)\n",
    "plt.ylabel(\"Number of Users\", fontsize = 16);"
   ]
  },
  {
   "cell_type": "markdown",
   "metadata": {
    "deletable": false,
    "editable": false,
    "nbgrader": {
     "grade": false,
     "locked": true,
     "solution": false
    }
   },
   "source": [
    "As expected, most products are only reviewed a few times, most users only submit a few reviews, and very few users have submitted many reviews. \n",
    "\n",
    "Again. the above graph has the shape of a \"hollow curve\"."
   ]
  },
  {
   "cell_type": "markdown",
   "metadata": {
    "deletable": false,
    "editable": false,
    "nbgrader": {
     "grade": false,
     "locked": true,
     "solution": false
    }
   },
   "source": [
    "<a id = \"simple\"></a>\n",
    "### Functioning of Recommender Systems\n",
    "\n",
    "Before tackling our extensive synthetic data, we will use a simpler dataset to demonstrate the functioning of recommender systems.  \n",
    "\n",
    "Below we have a set of rankings of six musicians made by six individuals.  "
   ]
  },
  {
   "cell_type": "code",
   "execution_count": 62,
   "metadata": {
    "deletable": false,
    "editable": false,
    "nbgrader": {
     "grade": false,
     "locked": true,
     "solution": false
    }
   },
   "outputs": [
    {
     "data": {
      "text/html": [
       "<div>\n",
       "<style scoped>\n",
       "    .dataframe tbody tr th:only-of-type {\n",
       "        vertical-align: middle;\n",
       "    }\n",
       "\n",
       "    .dataframe tbody tr th {\n",
       "        vertical-align: top;\n",
       "    }\n",
       "\n",
       "    .dataframe thead th {\n",
       "        text-align: right;\n",
       "    }\n",
       "</style>\n",
       "<table border=\"1\" class=\"dataframe\">\n",
       "  <thead>\n",
       "    <tr style=\"text-align: right;\">\n",
       "      <th></th>\n",
       "      <th>Mozart</th>\n",
       "      <th>Bach</th>\n",
       "      <th>Chopin</th>\n",
       "      <th>Brahms</th>\n",
       "      <th>Wagner</th>\n",
       "      <th>Liszt</th>\n",
       "    </tr>\n",
       "  </thead>\n",
       "  <tbody>\n",
       "    <tr>\n",
       "      <th>Abel</th>\n",
       "      <td>0</td>\n",
       "      <td>1</td>\n",
       "      <td>2</td>\n",
       "      <td>2</td>\n",
       "      <td>1</td>\n",
       "      <td>3</td>\n",
       "    </tr>\n",
       "    <tr>\n",
       "      <th>Baker</th>\n",
       "      <td>5</td>\n",
       "      <td>0</td>\n",
       "      <td>3</td>\n",
       "      <td>2</td>\n",
       "      <td>3</td>\n",
       "      <td>3</td>\n",
       "    </tr>\n",
       "    <tr>\n",
       "      <th>Charlie</th>\n",
       "      <td>5</td>\n",
       "      <td>4</td>\n",
       "      <td>0</td>\n",
       "      <td>5</td>\n",
       "      <td>3</td>\n",
       "      <td>2</td>\n",
       "    </tr>\n",
       "    <tr>\n",
       "      <th>David</th>\n",
       "      <td>5</td>\n",
       "      <td>5</td>\n",
       "      <td>5</td>\n",
       "      <td>0</td>\n",
       "      <td>2</td>\n",
       "      <td>1</td>\n",
       "    </tr>\n",
       "    <tr>\n",
       "      <th>Erik</th>\n",
       "      <td>3</td>\n",
       "      <td>3</td>\n",
       "      <td>4</td>\n",
       "      <td>3</td>\n",
       "      <td>0</td>\n",
       "      <td>2</td>\n",
       "    </tr>\n",
       "    <tr>\n",
       "      <th>Frank</th>\n",
       "      <td>2</td>\n",
       "      <td>2</td>\n",
       "      <td>1</td>\n",
       "      <td>1</td>\n",
       "      <td>3</td>\n",
       "      <td>0</td>\n",
       "    </tr>\n",
       "  </tbody>\n",
       "</table>\n",
       "</div>"
      ],
      "text/plain": [
       "         Mozart  Bach  Chopin  Brahms  Wagner  Liszt\n",
       "Abel          0     1       2       2       1      3\n",
       "Baker         5     0       3       2       3      3\n",
       "Charlie       5     4       0       5       3      2\n",
       "David         5     5       5       0       2      1\n",
       "Erik          3     3       4       3       0      2\n",
       "Frank         2     2       1       1       3      0"
      ]
     },
     "execution_count": 62,
     "metadata": {},
     "output_type": "execute_result"
    }
   ],
   "source": [
    "example_path = \"./data/example.csv\"\n",
    "ex = pd.read_csv(example_path, index_col = 0)\n",
    "ex"
   ]
  },
  {
   "cell_type": "markdown",
   "metadata": {
    "deletable": false,
    "editable": false,
    "nbgrader": {
     "grade": false,
     "locked": true,
     "solution": false
    }
   },
   "source": [
    "Note that the value \"0\" in the rows above denotes the absence of ranking - NOT an extremely poor ranking.  \n",
    "\n",
    "To determine which product to recommend, we can compute the similarity scores between products. Similarity scores can be computed in three different ways:\n",
    "\n",
    "- the Euclidean distance,\n",
    "- the Pearson's correlation coefficient,\n",
    "- and the cosine similarity score. \n",
    "\n",
    "To compare these scores we will normalize each to range between 0 and 1.  \n",
    "To simplify our analysis, we will use a subset of our example DataFrame:"
   ]
  },
  {
   "cell_type": "code",
   "execution_count": 63,
   "metadata": {
    "deletable": false,
    "editable": false,
    "nbgrader": {
     "grade": false,
     "locked": true,
     "solution": false
    }
   },
   "outputs": [
    {
     "data": {
      "text/html": [
       "<div>\n",
       "<style scoped>\n",
       "    .dataframe tbody tr th:only-of-type {\n",
       "        vertical-align: middle;\n",
       "    }\n",
       "\n",
       "    .dataframe tbody tr th {\n",
       "        vertical-align: top;\n",
       "    }\n",
       "\n",
       "    .dataframe thead th {\n",
       "        text-align: right;\n",
       "    }\n",
       "</style>\n",
       "<table border=\"1\" class=\"dataframe\">\n",
       "  <thead>\n",
       "    <tr style=\"text-align: right;\">\n",
       "      <th></th>\n",
       "      <th>Brahms</th>\n",
       "      <th>Wagner</th>\n",
       "      <th>Liszt</th>\n",
       "    </tr>\n",
       "  </thead>\n",
       "  <tbody>\n",
       "    <tr>\n",
       "      <th>Abel</th>\n",
       "      <td>2</td>\n",
       "      <td>1</td>\n",
       "      <td>3</td>\n",
       "    </tr>\n",
       "    <tr>\n",
       "      <th>Baker</th>\n",
       "      <td>2</td>\n",
       "      <td>3</td>\n",
       "      <td>3</td>\n",
       "    </tr>\n",
       "    <tr>\n",
       "      <th>Charlie</th>\n",
       "      <td>5</td>\n",
       "      <td>3</td>\n",
       "      <td>2</td>\n",
       "    </tr>\n",
       "  </tbody>\n",
       "</table>\n",
       "</div>"
      ],
      "text/plain": [
       "         Brahms  Wagner  Liszt\n",
       "Abel          2       1      3\n",
       "Baker         2       3      3\n",
       "Charlie       5       3      2"
      ]
     },
     "execution_count": 63,
     "metadata": {},
     "output_type": "execute_result"
    }
   ],
   "source": [
    "ex_hand = ex.iloc[:3,-3:]\n",
    "ex_hand"
   ]
  },
  {
   "cell_type": "markdown",
   "metadata": {
    "deletable": false,
    "editable": false,
    "nbgrader": {
     "grade": false,
     "locked": true,
     "solution": false
    }
   },
   "source": [
    "#### Euclidean Distance\n",
    "\n",
    "The Euclidean distance between and point $i =(a_i, b_i, \\dots, n_i)$ and $j= (a_j, b_j, \\dots, n_j)$ is given by\n",
    "\n",
    "$$\\sqrt{(a_j-a_i)^2+(b_j-b_i)^2+...+(n_j-n_i)^2}$$  \n",
    "\n",
    "\n",
    "<a id=\"q02\"></a>\n",
    "[Return to top](#questions)\n",
    "### Question 02\n",
    "\n",
    "Calculate the Euclidean distance between Brahms and Wagner in the `ex_hand` DataFrame. \n",
    "\n",
    "\n",
    "Assign the computed distance as a float to the variable ans2. Make sure that is answer is accurate to 3 decimal places. Feel free to use the KNN assignment as a reference.\n"
   ]
  },
  {
   "cell_type": "code",
   "execution_count": 66,
   "metadata": {},
   "outputs": [],
   "source": [
    "def dis_euc(v1,v2):\n",
    "    sqr_diff = [(xi - xj)**2 for xi,xj in zip(v1,v2)]\n",
    "    dist = np.sqrt(sum(sqr_diff))\n",
    "    return dist"
   ]
  },
  {
   "cell_type": "code",
   "execution_count": 72,
   "metadata": {},
   "outputs": [
    {
     "data": {
      "text/plain": [
       "2.449"
      ]
     },
     "execution_count": 72,
     "metadata": {},
     "output_type": "execute_result"
    }
   ],
   "source": [
    "brahms = ex_hand['Brahms'].values\n",
    "wagner = ex_hand['Wagner'].values\n",
    "round(dis_euc(brahms,wagner),3)"
   ]
  },
  {
   "cell_type": "code",
   "execution_count": 73,
   "metadata": {},
   "outputs": [
    {
     "data": {
      "text/plain": [
       "0.2899391127863149"
      ]
     },
     "execution_count": 73,
     "metadata": {},
     "output_type": "execute_result"
    }
   ],
   "source": [
    "1/(1+2.449)"
   ]
  },
  {
   "cell_type": "code",
   "execution_count": 74,
   "metadata": {},
   "outputs": [],
   "source": [
    "### GRADED\n",
    "# Calculate the Euclidean distance between Brahms and Wagner in the `ex_hand` DataFrame\n",
    "# Assign the computed distance as a float to the variable ans2. Make sure that is answer is \n",
    "# accurate to 3 decimal places. Feel free to use the KNN assignment as a reference.\n",
    "### YOUR SOLUTION HERE\n",
    "\n",
    "ans2 = 2.449\n",
    "###\n",
    "### YOUR CODE HERE\n",
    "###\n"
   ]
  },
  {
   "cell_type": "code",
   "execution_count": 75,
   "metadata": {
    "deletable": false,
    "editable": false,
    "nbgrader": {
     "grade": true,
     "grade_id": "Q-02",
     "locked": true,
     "points": "5",
     "solution": false
    }
   },
   "outputs": [],
   "source": [
    "###\n",
    "### AUTOGRADER TEST - DO NOT REMOVE\n",
    "###\n"
   ]
  },
  {
   "cell_type": "markdown",
   "metadata": {
    "deletable": false,
    "editable": false,
    "nbgrader": {
     "grade": false,
     "locked": true,
     "solution": false
    }
   },
   "source": [
    "To normalize the Euclidean distance between 0 and 1, we can use the following formula that relates \"distance\" to \"similarity\"\n",
    "\n",
    "$$\\text{similarity} =\\frac1{1+\\text{distance}}.$$\n",
    "\n",
    "For example, a distance of 0 corresponds to a similarity of 1, and a very large distance (e.g., $\\infty$) corresponds to a similarity of 0.  \n",
    "\n",
    "<a id=\"q03\"></a>\n",
    "[Return to top](#questions)\n",
    "### Question 03\n",
    "\n",
    "Define a  function called `e_sim` that accepts two `pandas` series as arguments.\n",
    "\n",
    "Your function should return the euclidean similarity score between the two series. Make sure that is answer is accurate to 3 decimal places.\n",
    "\n",
    "For this question you will need to use the attribute `np.linalg.norm()`."
   ]
  },
  {
   "cell_type": "code",
   "execution_count": 76,
   "metadata": {},
   "outputs": [],
   "source": [
    "def e_sim(ser1, ser2):\n",
    "    sqr_diff = [(xi - xj)**2 for xi,xj in zip(ser1,ser2)]\n",
    "    distance = np.sqrt(sum(sqr_diff))\n",
    "    similarity = 1 / (1 + distance)\n",
    "    return similarity"
   ]
  },
  {
   "cell_type": "code",
   "execution_count": 77,
   "metadata": {},
   "outputs": [
    {
     "name": "stdout",
     "output_type": "stream",
     "text": [
      "0.28989794855663564\n"
     ]
    }
   ],
   "source": [
    "ser1 = ex_hand.iloc[:,0]\n",
    "ser2 = ex_hand.iloc[:,1]\n",
    "print(e_sim(ser1, ser2)) #--> 0.28989794855663564"
   ]
  },
  {
   "cell_type": "code",
   "execution_count": 78,
   "metadata": {},
   "outputs": [],
   "source": [
    "### GRADED\n",
    "# Define a  function called `e_sim` that accepts two `pandas` series as arguments.\n",
    "# Your function should return the euclidean similarity score between the two series. \n",
    "# Make sure that is answer is accurate to 3 decimal places.\n",
    "\n",
    "# For this question you will need to use the attribute `np.linalg.norm()`.\n",
    "### YOUR SOLUTION HERE\n",
    "\n",
    "def e_sim(ser1, ser2):\n",
    "    \"\"\"\n",
    "    Given two Pandas series, compute the euclidean similarity score;\n",
    "        1 / 1+euclidean distance\n",
    "        \n",
    "    Positional Arguments --\n",
    "        ser1: a Pandas Series of length n\n",
    "        ser2: a Pandas Series of length n\n",
    "    \n",
    "    Example --\n",
    "        ser1 = ex_hand.iloc[:,0]\n",
    "        ser2 = ex_hand.iloc[:,1]\n",
    "        print(e_sim(ser1, ser2)) #--> 0.28989794855663564\n",
    "    \"\"\"\n",
    "    sqr_diff = [(xi - xj)**2 for xi,xj in zip(ser1,ser2)]\n",
    "    distance = np.sqrt(sum(sqr_diff))\n",
    "    similarity = 1 / (1 + distance)\n",
    "    return similarity\n",
    "###\n",
    "### YOUR CODE HERE\n",
    "###"
   ]
  },
  {
   "cell_type": "code",
   "execution_count": 79,
   "metadata": {
    "deletable": false,
    "editable": false,
    "nbgrader": {
     "grade": true,
     "grade_id": "Q-03",
     "locked": true,
     "points": "10",
     "solution": false
    }
   },
   "outputs": [],
   "source": [
    "###\n",
    "### AUTOGRADER TEST - DO NOT REMOVE\n",
    "###\n"
   ]
  },
  {
   "cell_type": "markdown",
   "metadata": {
    "deletable": false,
    "editable": false,
    "nbgrader": {
     "grade": false,
     "locked": true,
     "solution": false
    }
   },
   "source": [
    "#### Pearson's Correlation Coefficient\n",
    "\n",
    "The Pearson's correlation coefficient $\\rho$ takes values from -1 to 1. Therefore, to normalize it into a difference score between 0 and 1, we need to reduce that range by half (i.e., divide the range by two) to increase the minimum score to 0, and add .5:  \n",
    "\n",
    "$$\\frac12 + \\frac{\\rho_{xy}}2$$  \n",
    "\n",
    "The function below computes the Pearson's correlation coefficient."
   ]
  },
  {
   "cell_type": "code",
   "execution_count": 80,
   "metadata": {
    "deletable": false,
    "editable": false,
    "nbgrader": {
     "grade": false,
     "locked": true,
     "solution": false
    }
   },
   "outputs": [],
   "source": [
    "### Function to define the Pearson's Correlation Coefficient.\n",
    "def p_sim(ser1, ser2):\n",
    "    \n",
    "    def normalize(raw):\n",
    "        return .5 + (raw/2)\n",
    "    \n",
    "    corr = np.corrcoef(ser1, ser2)[0][1] ### returns 2x2 array with correlation to self(1) on diagonal\n",
    "    \n",
    "    return normalize(corr)"
   ]
  },
  {
   "cell_type": "code",
   "execution_count": 85,
   "metadata": {},
   "outputs": [
    {
     "name": "stdout",
     "output_type": "stream",
     "text": [
      "0.75\n"
     ]
    },
    {
     "data": {
      "text/plain": [
       "0.5000000000000001"
      ]
     },
     "execution_count": 85,
     "metadata": {},
     "output_type": "execute_result"
    }
   ],
   "source": [
    "ser1 = ex_hand.iloc[:,0]\n",
    "ser2 = ex_hand.iloc[:,1]\n",
    "print(p_sim(ser1, ser2))\n",
    "np.corrcoef(ser1, ser2)[0][1]"
   ]
  },
  {
   "cell_type": "markdown",
   "metadata": {
    "deletable": false,
    "editable": false,
    "nbgrader": {
     "grade": false,
     "locked": true,
     "solution": false
    }
   },
   "source": [
    "#### Cosine Similarity\n",
    "\n",
    "The cosine similarity calculates the cosine of the angle between two vectors normalizing it between 0 and 1.  \n",
    "\n",
    "<a id=\"q04\"></a>\n",
    "[Return to top](#questions)\n",
    "### Question 04\n",
    "\n",
    "Decide whether the following statement is true or false.\n",
    "\n",
    "*Like the correlation coefficient similarity score, the cosine similarity score is unaffected by magnitudes. For example, an excited user who gives mostly 5's will be considered similar to a user who gives mostly 2's.*\n",
    "\n",
    "Assign a Boolean value to the variable ans1."
   ]
  },
  {
   "cell_type": "code",
   "execution_count": 86,
   "metadata": {},
   "outputs": [],
   "source": [
    "### GRADED\n",
    "#Decide whether the following statement is true or false.\n",
    "\n",
    "#*Like the correlation coefficient similarity score, the cosine similarity score is \n",
    "# unaffected by magnitudes. For example, an excited user who gives mostly 5's will be \n",
    "# considered similar to a user who gives mostly 2's.*\n",
    "\n",
    "#Assign a Boolean value to the variable ans1.\n",
    "### YOUR SOLUTION HERE\n",
    "\n",
    "ans1 = True\n",
    "###\n",
    "### YOUR CODE HERE\n",
    "###\n"
   ]
  },
  {
   "cell_type": "code",
   "execution_count": 87,
   "metadata": {
    "deletable": false,
    "editable": false,
    "nbgrader": {
     "grade": true,
     "grade_id": "Q-04",
     "locked": true,
     "points": "5",
     "solution": false
    }
   },
   "outputs": [],
   "source": [
    "###\n",
    "### AUTOGRADER TEST - DO NOT REMOVE\n",
    "###\n"
   ]
  },
  {
   "cell_type": "markdown",
   "metadata": {
    "deletable": false,
    "editable": false,
    "nbgrader": {
     "grade": false,
     "locked": true,
     "solution": false
    }
   },
   "source": [
    "The cosine similarity score is given by the following formula\n",
    "\n",
    "$$cos(\\theta) = \\frac{S1\\cdot S2}{||S1||\\cdot||S2||},$$\n",
    " \n",
    " where $S1$ and $S2$ are the two vectors considered, and $||\\cdot||$ represents the magnitude of each vector.\n",
    " \n",
    "The function below computes the cosine similarity score."
   ]
  },
  {
   "cell_type": "code",
   "execution_count": 88,
   "metadata": {
    "deletable": false,
    "editable": false,
    "nbgrader": {
     "grade": false,
     "locked": true,
     "solution": false
    }
   },
   "outputs": [],
   "source": [
    "###Function to define the cosine similarity.\n",
    "\n",
    "def c_sim(ser1, ser2):\n",
    "    def normalize(raw):\n",
    "        return .5 + (raw/2)\n",
    "    \n",
    "    cosT = np.dot(ser1, ser2) / (np.linalg.norm(ser1)* np.linalg.norm(ser2))\n",
    "    \n",
    "    return normalize(cosT)"
   ]
  },
  {
   "cell_type": "code",
   "execution_count": 91,
   "metadata": {},
   "outputs": [
    {
     "name": "stdout",
     "output_type": "stream",
     "text": [
      "0.9592657617027512\n"
     ]
    },
    {
     "data": {
      "text/plain": [
       "0.9185315234055025"
      ]
     },
     "execution_count": 91,
     "metadata": {},
     "output_type": "execute_result"
    }
   ],
   "source": [
    "ser1 = ex_hand.iloc[:,0]\n",
    "ser2 = ex_hand.iloc[:,1]\n",
    "print(c_sim(ser1, ser2))\n",
    "np.dot(ser1, ser2) / (np.linalg.norm(ser1)* np.linalg.norm(ser2))"
   ]
  },
  {
   "cell_type": "markdown",
   "metadata": {
    "deletable": false,
    "editable": false,
    "nbgrader": {
     "grade": false,
     "locked": true,
     "solution": false
    }
   },
   "source": [
    "At this point we have defined three functions for calculating similarity between two vectors.  \n",
    "\n",
    "- e_sim: for the Euclidean similarity \n",
    "- p_sim: for the Pearson correlation coefficient similarity\n",
    "- c_sim: for the cosine similarity\n",
    " "
   ]
  },
  {
   "cell_type": "markdown",
   "metadata": {
    "deletable": false,
    "editable": false,
    "nbgrader": {
     "grade": false,
     "locked": true,
     "solution": false
    }
   },
   "source": [
    "Now, let's calculate each of the three similarity scores for each pair of musicians in the `ex` DataFrame.  \n",
    "\n",
    "Let's remind us of what the DataFrame `ex` looks like."
   ]
  },
  {
   "cell_type": "code",
   "execution_count": 92,
   "metadata": {
    "deletable": false,
    "editable": false,
    "nbgrader": {
     "grade": false,
     "locked": true,
     "solution": false
    }
   },
   "outputs": [
    {
     "data": {
      "text/html": [
       "<div>\n",
       "<style scoped>\n",
       "    .dataframe tbody tr th:only-of-type {\n",
       "        vertical-align: middle;\n",
       "    }\n",
       "\n",
       "    .dataframe tbody tr th {\n",
       "        vertical-align: top;\n",
       "    }\n",
       "\n",
       "    .dataframe thead th {\n",
       "        text-align: right;\n",
       "    }\n",
       "</style>\n",
       "<table border=\"1\" class=\"dataframe\">\n",
       "  <thead>\n",
       "    <tr style=\"text-align: right;\">\n",
       "      <th></th>\n",
       "      <th>Mozart</th>\n",
       "      <th>Bach</th>\n",
       "      <th>Chopin</th>\n",
       "      <th>Brahms</th>\n",
       "      <th>Wagner</th>\n",
       "      <th>Liszt</th>\n",
       "    </tr>\n",
       "  </thead>\n",
       "  <tbody>\n",
       "    <tr>\n",
       "      <th>Abel</th>\n",
       "      <td>0</td>\n",
       "      <td>1</td>\n",
       "      <td>2</td>\n",
       "      <td>2</td>\n",
       "      <td>1</td>\n",
       "      <td>3</td>\n",
       "    </tr>\n",
       "    <tr>\n",
       "      <th>Baker</th>\n",
       "      <td>5</td>\n",
       "      <td>0</td>\n",
       "      <td>3</td>\n",
       "      <td>2</td>\n",
       "      <td>3</td>\n",
       "      <td>3</td>\n",
       "    </tr>\n",
       "    <tr>\n",
       "      <th>Charlie</th>\n",
       "      <td>5</td>\n",
       "      <td>4</td>\n",
       "      <td>0</td>\n",
       "      <td>5</td>\n",
       "      <td>3</td>\n",
       "      <td>2</td>\n",
       "    </tr>\n",
       "    <tr>\n",
       "      <th>David</th>\n",
       "      <td>5</td>\n",
       "      <td>5</td>\n",
       "      <td>5</td>\n",
       "      <td>0</td>\n",
       "      <td>2</td>\n",
       "      <td>1</td>\n",
       "    </tr>\n",
       "    <tr>\n",
       "      <th>Erik</th>\n",
       "      <td>3</td>\n",
       "      <td>3</td>\n",
       "      <td>4</td>\n",
       "      <td>3</td>\n",
       "      <td>0</td>\n",
       "      <td>2</td>\n",
       "    </tr>\n",
       "    <tr>\n",
       "      <th>Frank</th>\n",
       "      <td>2</td>\n",
       "      <td>2</td>\n",
       "      <td>1</td>\n",
       "      <td>1</td>\n",
       "      <td>3</td>\n",
       "      <td>0</td>\n",
       "    </tr>\n",
       "  </tbody>\n",
       "</table>\n",
       "</div>"
      ],
      "text/plain": [
       "         Mozart  Bach  Chopin  Brahms  Wagner  Liszt\n",
       "Abel          0     1       2       2       1      3\n",
       "Baker         5     0       3       2       3      3\n",
       "Charlie       5     4       0       5       3      2\n",
       "David         5     5       5       0       2      1\n",
       "Erik          3     3       4       3       0      2\n",
       "Frank         2     2       1       1       3      0"
      ]
     },
     "execution_count": 92,
     "metadata": {},
     "output_type": "execute_result"
    }
   ],
   "source": [
    "ex"
   ]
  },
  {
   "cell_type": "markdown",
   "metadata": {
    "deletable": false,
    "editable": false,
    "nbgrader": {
     "grade": false,
     "locked": true,
     "solution": false
    }
   },
   "source": [
    "The function we will build must take into account that not all users have rated all musicians.\n",
    "\n",
    "So, for example, when comparing \"Mozart\" and \"Bach\", we must disregard the observations from \"Abel\" and \"Baker\", respectively.  \n",
    "\n",
    "This can be done by reading the value \"0\" as to be \"less than 1\", and *not* as the lack of information which actually represents.  \n",
    "\n",
    "\n",
    "<a id=\"q05\"></a>\n",
    "[Return to top](#questions)\n",
    "### Question 05\n",
    "Define a  function called `drop_val` that accepts the following  arguments:\n",
    "\n",
    "- A `pandas` DataFrame.\n",
    "- A numeric variable named `to_drop`.\n",
    "\n",
    "Your function should drop all the rows that have the value contained in `to_drop` in any column, and should return the DataFrame without the rows that have been dropped.\n",
    "\n",
    "For example, if we pass the DataFrame `ex` containing all rows but only the columns corresponding to \"Mozart\" and \"Bach\", and we set  'to_drop=5', our function should return \"Abel\", \"Erik\", and \"Frank\" rows with all the original columns. "
   ]
  },
  {
   "cell_type": "code",
   "execution_count": 107,
   "metadata": {},
   "outputs": [],
   "source": [
    "def drop_val (df, to_drop):\n",
    "    for col in df.T:\n",
    "        if to_drop in df.T[col].unique():\n",
    "            df = df.drop(col)\n",
    "            \n",
    "    return df    "
   ]
  },
  {
   "cell_type": "code",
   "execution_count": 114,
   "metadata": {},
   "outputs": [
    {
     "name": "stdout",
     "output_type": "stream",
     "text": [
      "         Mozart  Bach\n",
      "Charlie       5     4\n",
      "David         5     5\n",
      "Erik          3     3\n",
      "Frank         2     2\n"
     ]
    }
   ],
   "source": [
    "df = ex.loc[:,\"Mozart\":\"Bach\"]\n",
    "to_drop = 0\n",
    "print(drop_val(df,to_drop)) # -->          Mozart  Bach\n",
    "#                                 Abel        0     1\n",
    "#                                 Erik        3     3\n",
    "#                                 Frank       2     2   \n",
    "# for col in df.T:\n",
    "#     print(df.T[col].unique())"
   ]
  },
  {
   "cell_type": "code",
   "execution_count": 116,
   "metadata": {},
   "outputs": [
    {
     "data": {
      "text/html": [
       "<div>\n",
       "<style scoped>\n",
       "    .dataframe tbody tr th:only-of-type {\n",
       "        vertical-align: middle;\n",
       "    }\n",
       "\n",
       "    .dataframe tbody tr th {\n",
       "        vertical-align: top;\n",
       "    }\n",
       "\n",
       "    .dataframe thead th {\n",
       "        text-align: right;\n",
       "    }\n",
       "</style>\n",
       "<table border=\"1\" class=\"dataframe\">\n",
       "  <thead>\n",
       "    <tr style=\"text-align: right;\">\n",
       "      <th></th>\n",
       "      <th>Mozart</th>\n",
       "      <th>Bach</th>\n",
       "    </tr>\n",
       "  </thead>\n",
       "  <tbody>\n",
       "    <tr>\n",
       "      <th>Charlie</th>\n",
       "      <td>5</td>\n",
       "      <td>4</td>\n",
       "    </tr>\n",
       "    <tr>\n",
       "      <th>David</th>\n",
       "      <td>5</td>\n",
       "      <td>5</td>\n",
       "    </tr>\n",
       "    <tr>\n",
       "      <th>Erik</th>\n",
       "      <td>3</td>\n",
       "      <td>3</td>\n",
       "    </tr>\n",
       "    <tr>\n",
       "      <th>Frank</th>\n",
       "      <td>2</td>\n",
       "      <td>2</td>\n",
       "    </tr>\n",
       "  </tbody>\n",
       "</table>\n",
       "</div>"
      ],
      "text/plain": [
       "         Mozart  Bach\n",
       "Charlie       5     4\n",
       "David         5     5\n",
       "Erik          3     3\n",
       "Frank         2     2"
      ]
     },
     "execution_count": 116,
     "metadata": {},
     "output_type": "execute_result"
    }
   ],
   "source": [
    "##REGRESA LOS INDICES (ROWS) QUE NO CONTENGAN VALORES CERO ...\n",
    "## array([2, 3, 4, 5], dtype=int64)\n",
    "np.intersect1d( df.iloc[:,0].to_numpy().nonzero(), df.iloc[:,1].to_numpy().nonzero())\n",
    "df.iloc[np.intersect1d( df.iloc[:,0].to_numpy().nonzero(), df.iloc[:,1].to_numpy().nonzero())]"
   ]
  },
  {
   "cell_type": "code",
   "execution_count": 109,
   "metadata": {},
   "outputs": [],
   "source": [
    "### GRADED\n",
    "#Define a function called drop_val that accepts the following arguments:\n",
    "# - A pandas DataFrame.\n",
    "# - A numeric variable named to_drop.\n",
    "\n",
    "# Your function should drop all the rows that have the value contained in to_drop in any column, \n",
    "# and should return the DataFrame without the rows that have been dropped.\n",
    "\n",
    "# For example, if we pass the DataFrame ex containing all rows but only the columns corresponding\n",
    "# to \"Mozart\" and \"Bach\", and we set 'to_drop=5', our function should return \"Abel\", \"Erik\", and \"Frank\" \n",
    "# rows with all the original columns.\n",
    "### YOUR SOLUTION HERE\n",
    "\n",
    "def drop_val (df, to_drop):\n",
    "    \n",
    "    \"\"\"\n",
    "    Drop rows from the DataFrame containing the specified values\n",
    "    \n",
    "    Positional Arguments --\n",
    "        df: a Pandas DataFrame\n",
    "        to_drop: a value found in some rows of df\n",
    "    \n",
    "    Example --\n",
    "        \n",
    "        df = ex.loc[:,\"Mozart\":\"Bach]\n",
    "        to_drop = 5\n",
    "        print(drop_val(df,to_drop)) # -->          Mozart  Bach\n",
    "                                            Abel        0     1\n",
    "                                            Erik        3     3\n",
    "                                            Frank       2     2   \n",
    "    \"\"\"\n",
    "    for col in df.T:\n",
    "        if to_drop in df.T[col].unique():\n",
    "            df = df.drop(col)\n",
    "            \n",
    "    return df\n",
    "###\n",
    "### YOUR CODE HERE\n",
    "###"
   ]
  },
  {
   "cell_type": "code",
   "execution_count": 110,
   "metadata": {
    "deletable": false,
    "editable": false,
    "nbgrader": {
     "grade": true,
     "grade_id": "Q-05",
     "locked": true,
     "points": "15",
     "solution": false
    }
   },
   "outputs": [],
   "source": [
    "###\n",
    "### AUTOGRADER TEST - DO NOT REMOVE\n",
    "###\n"
   ]
  },
  {
   "cell_type": "markdown",
   "metadata": {
    "deletable": false,
    "editable": false,
    "nbgrader": {
     "grade": false,
     "locked": true,
     "solution": false
    }
   },
   "source": [
    "The cell below defines a function \"drop_rows_with_zeros\" that takes a DataFrame with two columns and returns a DataFrame where all the rows that contain a value of 0 have been removed."
   ]
  },
  {
   "cell_type": "code",
   "execution_count": 111,
   "metadata": {
    "deletable": false,
    "editable": false,
    "nbgrader": {
     "grade": false,
     "locked": true,
     "solution": false
    }
   },
   "outputs": [],
   "source": [
    "### Defining drop_rows_with_zeros\n",
    "\n",
    "def drop_rows_with_zeros(df):\n",
    "    keep = np.intersect1d( df.iloc[:,0].to_numpy().nonzero(), df.iloc[:,1].to_numpy().nonzero())\n",
    "    \n",
    "    return df.iloc[keep,:]\n"
   ]
  },
  {
   "cell_type": "markdown",
   "metadata": {
    "deletable": false,
    "editable": false,
    "nbgrader": {
     "grade": false,
     "locked": true,
     "solution": false
    }
   },
   "source": [
    "### Comparison of Similarity Scores\n",
    "\n",
    "Below, we will compare the similarity scores for each each combination of musicians. \n",
    "\n",
    "First, we find all the possible pairs of musicians:"
   ]
  },
  {
   "cell_type": "code",
   "execution_count": 117,
   "metadata": {
    "deletable": false,
    "editable": false,
    "nbgrader": {
     "grade": false,
     "locked": true,
     "solution": false
    }
   },
   "outputs": [
    {
     "name": "stdout",
     "output_type": "stream",
     "text": [
      "('Mozart', 'Bach')\n",
      "('Mozart', 'Chopin')\n",
      "('Mozart', 'Brahms')\n",
      "('Mozart', 'Wagner')\n",
      "('Mozart', 'Liszt')\n",
      "('Bach', 'Chopin')\n",
      "('Bach', 'Brahms')\n",
      "('Bach', 'Wagner')\n",
      "('Bach', 'Liszt')\n",
      "('Chopin', 'Brahms')\n",
      "('Chopin', 'Wagner')\n",
      "('Chopin', 'Liszt')\n",
      "('Brahms', 'Wagner')\n",
      "('Brahms', 'Liszt')\n",
      "('Wagner', 'Liszt')\n"
     ]
    }
   ],
   "source": [
    "import itertools\n",
    "for c in itertools.combinations(ex.columns,2):\n",
    "    print(c)"
   ]
  },
  {
   "cell_type": "markdown",
   "metadata": {
    "deletable": false,
    "editable": false,
    "nbgrader": {
     "grade": false,
     "locked": true,
     "solution": false
    }
   },
   "source": [
    "Each tuple can be used as a subset in the DataFrame. For example, the subset for Mozart and Bach is given by:"
   ]
  },
  {
   "cell_type": "code",
   "execution_count": 118,
   "metadata": {
    "deletable": false,
    "editable": false,
    "nbgrader": {
     "grade": false,
     "locked": true,
     "solution": false
    }
   },
   "outputs": [
    {
     "data": {
      "text/html": [
       "<div>\n",
       "<style scoped>\n",
       "    .dataframe tbody tr th:only-of-type {\n",
       "        vertical-align: middle;\n",
       "    }\n",
       "\n",
       "    .dataframe tbody tr th {\n",
       "        vertical-align: top;\n",
       "    }\n",
       "\n",
       "    .dataframe thead th {\n",
       "        text-align: right;\n",
       "    }\n",
       "</style>\n",
       "<table border=\"1\" class=\"dataframe\">\n",
       "  <thead>\n",
       "    <tr style=\"text-align: right;\">\n",
       "      <th></th>\n",
       "      <th>Mozart</th>\n",
       "      <th>Bach</th>\n",
       "    </tr>\n",
       "  </thead>\n",
       "  <tbody>\n",
       "    <tr>\n",
       "      <th>Abel</th>\n",
       "      <td>0</td>\n",
       "      <td>1</td>\n",
       "    </tr>\n",
       "    <tr>\n",
       "      <th>Baker</th>\n",
       "      <td>5</td>\n",
       "      <td>0</td>\n",
       "    </tr>\n",
       "    <tr>\n",
       "      <th>Charlie</th>\n",
       "      <td>5</td>\n",
       "      <td>4</td>\n",
       "    </tr>\n",
       "    <tr>\n",
       "      <th>David</th>\n",
       "      <td>5</td>\n",
       "      <td>5</td>\n",
       "    </tr>\n",
       "    <tr>\n",
       "      <th>Erik</th>\n",
       "      <td>3</td>\n",
       "      <td>3</td>\n",
       "    </tr>\n",
       "    <tr>\n",
       "      <th>Frank</th>\n",
       "      <td>2</td>\n",
       "      <td>2</td>\n",
       "    </tr>\n",
       "  </tbody>\n",
       "</table>\n",
       "</div>"
      ],
      "text/plain": [
       "         Mozart  Bach\n",
       "Abel          0     1\n",
       "Baker         5     0\n",
       "Charlie       5     4\n",
       "David         5     5\n",
       "Erik          3     3\n",
       "Frank         2     2"
      ]
     },
     "execution_count": 118,
     "metadata": {},
     "output_type": "execute_result"
    }
   ],
   "source": [
    "ex[list(('Mozart', 'Bach'))]"
   ]
  },
  {
   "cell_type": "markdown",
   "metadata": {
    "deletable": false,
    "editable": false,
    "nbgrader": {
     "grade": false,
     "locked": true,
     "solution": false
    }
   },
   "source": [
    "Next, we define a first dictionary that has as keys the pairs musicians being compared.\n",
    "\n",
    "In a second dictionary, we define the similarity scores, \"Euclid\", \"Pearson\", and \"Cosine\",  corresponding to each pair of musician."
   ]
  },
  {
   "cell_type": "code",
   "execution_count": 119,
   "metadata": {
    "deletable": false,
    "editable": false,
    "nbgrader": {
     "grade": false,
     "locked": true,
     "solution": false
    }
   },
   "outputs": [
    {
     "data": {
      "text/html": [
       "<div>\n",
       "<style scoped>\n",
       "    .dataframe tbody tr th:only-of-type {\n",
       "        vertical-align: middle;\n",
       "    }\n",
       "\n",
       "    .dataframe tbody tr th {\n",
       "        vertical-align: top;\n",
       "    }\n",
       "\n",
       "    .dataframe thead th {\n",
       "        text-align: right;\n",
       "    }\n",
       "</style>\n",
       "<table border=\"1\" class=\"dataframe\">\n",
       "  <thead>\n",
       "    <tr style=\"text-align: right;\">\n",
       "      <th></th>\n",
       "      <th>Euclid</th>\n",
       "      <th>Pearson</th>\n",
       "      <th>Cosine</th>\n",
       "    </tr>\n",
       "  </thead>\n",
       "  <tbody>\n",
       "    <tr>\n",
       "      <th>Bach, Brahms</th>\n",
       "      <td>0.366025</td>\n",
       "      <td>0.915761</td>\n",
       "      <td>0.982382</td>\n",
       "    </tr>\n",
       "    <tr>\n",
       "      <th>Bach, Chopin</th>\n",
       "      <td>0.366025</td>\n",
       "      <td>0.927618</td>\n",
       "      <td>0.983997</td>\n",
       "    </tr>\n",
       "    <tr>\n",
       "      <th>Bach, Liszt</th>\n",
       "      <td>0.166667</td>\n",
       "      <td>0.021909</td>\n",
       "      <td>0.863054</td>\n",
       "    </tr>\n",
       "    <tr>\n",
       "      <th>Bach, Wagner</th>\n",
       "      <td>0.231662</td>\n",
       "      <td>0.690693</td>\n",
       "      <td>0.945785</td>\n",
       "    </tr>\n",
       "    <tr>\n",
       "      <th>Brahms, Liszt</th>\n",
       "      <td>0.224009</td>\n",
       "      <td>0.091752</td>\n",
       "      <td>0.923659</td>\n",
       "    </tr>\n",
       "    <tr>\n",
       "      <th>Brahms, Wagner</th>\n",
       "      <td>0.240253</td>\n",
       "      <td>0.596225</td>\n",
       "      <td>0.921332</td>\n",
       "    </tr>\n",
       "    <tr>\n",
       "      <th>Chopin, Brahms</th>\n",
       "      <td>0.414214</td>\n",
       "      <td>0.974342</td>\n",
       "      <td>0.994881</td>\n",
       "    </tr>\n",
       "    <tr>\n",
       "      <th>Chopin, Liszt</th>\n",
       "      <td>0.179129</td>\n",
       "      <td>0.028060</td>\n",
       "      <td>0.897253</td>\n",
       "    </tr>\n",
       "    <tr>\n",
       "      <th>Chopin, Wagner</th>\n",
       "      <td>0.210897</td>\n",
       "      <td>0.423553</td>\n",
       "      <td>0.900668</td>\n",
       "    </tr>\n",
       "    <tr>\n",
       "      <th>Mozart, Bach</th>\n",
       "      <td>0.500000</td>\n",
       "      <td>0.973365</td>\n",
       "      <td>0.997200</td>\n",
       "    </tr>\n",
       "    <tr>\n",
       "      <th>Mozart, Brahms</th>\n",
       "      <td>0.240253</td>\n",
       "      <td>0.809035</td>\n",
       "      <td>0.964008</td>\n",
       "    </tr>\n",
       "    <tr>\n",
       "      <th>Mozart, Chopin</th>\n",
       "      <td>0.289898</td>\n",
       "      <td>0.841565</td>\n",
       "      <td>0.976331</td>\n",
       "    </tr>\n",
       "    <tr>\n",
       "      <th>Mozart, Liszt</th>\n",
       "      <td>0.154387</td>\n",
       "      <td>0.500000</td>\n",
       "      <td>0.962910</td>\n",
       "    </tr>\n",
       "    <tr>\n",
       "      <th>Mozart, Wagner</th>\n",
       "      <td>0.190744</td>\n",
       "      <td>0.333333</td>\n",
       "      <td>0.964765</td>\n",
       "    </tr>\n",
       "    <tr>\n",
       "      <th>Wagner, Liszt</th>\n",
       "      <td>0.289898</td>\n",
       "      <td>0.454545</td>\n",
       "      <td>0.934783</td>\n",
       "    </tr>\n",
       "  </tbody>\n",
       "</table>\n",
       "</div>"
      ],
      "text/plain": [
       "                  Euclid   Pearson    Cosine\n",
       "Bach, Brahms    0.366025  0.915761  0.982382\n",
       "Bach, Chopin    0.366025  0.927618  0.983997\n",
       "Bach, Liszt     0.166667  0.021909  0.863054\n",
       "Bach, Wagner    0.231662  0.690693  0.945785\n",
       "Brahms, Liszt   0.224009  0.091752  0.923659\n",
       "Brahms, Wagner  0.240253  0.596225  0.921332\n",
       "Chopin, Brahms  0.414214  0.974342  0.994881\n",
       "Chopin, Liszt   0.179129  0.028060  0.897253\n",
       "Chopin, Wagner  0.210897  0.423553  0.900668\n",
       "Mozart, Bach    0.500000  0.973365  0.997200\n",
       "Mozart, Brahms  0.240253  0.809035  0.964008\n",
       "Mozart, Chopin  0.289898  0.841565  0.976331\n",
       "Mozart, Liszt   0.154387  0.500000  0.962910\n",
       "Mozart, Wagner  0.190744  0.333333  0.964765\n",
       "Wagner, Liszt   0.289898  0.454545  0.934783"
      ]
     },
     "execution_count": 119,
     "metadata": {},
     "output_type": "execute_result"
    }
   ],
   "source": [
    "sim_scores = dict()\n",
    "\n",
    "for c in itertools.combinations(ex.columns, 2):\n",
    "    df = drop_rows_with_zeros(ex[list(c)])\n",
    "    ser1 = df.iloc[:,0]\n",
    "    ser2 = df.iloc[:,1]\n",
    "    scores = {\"Euclid\":e_sim(ser1, ser2), \"Pearson\":p_sim(ser1,ser2), \"Cosine\":c_sim(ser1,ser2)}\n",
    "    key =\", \".join(c)\n",
    "    sim_scores[key] = scores\n",
    "    \n",
    "sims = pd.DataFrame.from_dict(sim_scores,orient = \"index\")\n",
    "sims"
   ]
  },
  {
   "cell_type": "markdown",
   "metadata": {
    "deletable": false,
    "editable": false,
    "nbgrader": {
     "grade": false,
     "locked": true,
     "solution": false
    }
   },
   "source": [
    "The similarity scores can be visualized as follow"
   ]
  },
  {
   "cell_type": "code",
   "execution_count": 120,
   "metadata": {
    "deletable": false,
    "editable": false,
    "nbgrader": {
     "grade": false,
     "locked": true,
     "solution": false
    }
   },
   "outputs": [
    {
     "data": {
      "image/png": "[encoded data removed]",
      "text/plain": [
       "<Figure size 540x540 with 12 Axes>"
      ]
     },
     "metadata": {
      "needs_background": "light"
     },
     "output_type": "display_data"
    }
   ],
   "source": [
    "### Note: x and y scales are not consistent in this visualization\n",
    "sns.pairplot(sims );"
   ]
  },
  {
   "cell_type": "code",
   "execution_count": 121,
   "metadata": {
    "deletable": false,
    "editable": false,
    "nbgrader": {
     "grade": false,
     "locked": true,
     "solution": false
    }
   },
   "outputs": [
    {
     "data": {
      "image/png": "[encoded data removed]",
      "text/plain": [
       "<Figure size 864x432 with 3 Axes>"
      ]
     },
     "metadata": {
      "needs_background": "light"
     },
     "output_type": "display_data"
    }
   ],
   "source": [
    "### Visualization with consistent x and y scales using `matplotlib`\n",
    "plt.figure(figsize = (12,6))\n",
    "for i, cols in enumerate([('Euclid','Pearson'), (\"Euclid\",\"Cosine\"),(\"Pearson\",\"Cosine\")]):\n",
    "    plt.subplot(1,3,i+1)\n",
    "    \n",
    "    plt.scatter(sims[cols[0]], sims[cols[1]])\n",
    "    \n",
    "    plt.xlabel(cols[0], fontsize = 14); plt.ylabel(cols[1], fontsize = 14)\n",
    "    plt.xlim(0,1); plt.ylim(0,1)\n",
    "    \n",
    "plt.tight_layout()"
   ]
  },
  {
   "cell_type": "markdown",
   "metadata": {
    "deletable": false,
    "editable": false,
    "nbgrader": {
     "grade": false,
     "locked": true,
     "solution": false
    }
   },
   "source": [
    "<a id = \"sim-note\"></a>\n",
    "#### Differences in Similarity Scores\n",
    "\n",
    "\n",
    "As we can see from the graphs above, it is possible to visualize a range of similarity scores given different techniques. These similarity scores will majorly impact how a recommender system performs. \n",
    "\n",
    "Refer to the lectures for the particular impacts and strengths of the different similarity calculations."
   ]
  },
  {
   "cell_type": "markdown",
   "metadata": {
    "deletable": false,
    "editable": false,
    "nbgrader": {
     "grade": false,
     "locked": true,
     "solution": false
    }
   },
   "source": [
    "<a id = 'pred'></a>\n",
    "### Predicting Unknown Scores\n",
    "\n",
    "Assume that we don't know the score that Abel gave to Mozart. To do so, we must take into account that Mozart has a similarity score in relation to all the other musicians.\n",
    "\n",
    "Similarly, Abel has given a score to all the other musicians.  \n",
    "\n",
    "Therefore, Abel's predicted score for Mozart will be given by: the **sum** of Abel's score for every other musician **times** that musician's similarity score with respect to Mozart, **divided by** the sum of similarity scores.  \n",
    "\n",
    "For example, we can predict Abel's score for Mozart by computing\n",
    "\n",
    "$$\\frac{\\sum_{ mus = Bach}^{Liszt}A_{mus}*\\text{simScore}(\\text{Mozart, mus})}{\\sum_{mus = Bach}^{Liszt}\\text{simScore}{\\text{(Mozart, mus)}}}$$ \n",
    "\n",
    "The commands below compute the similarity scores for Mozart."
   ]
  },
  {
   "cell_type": "code",
   "execution_count": 125,
   "metadata": {},
   "outputs": [],
   "source": [
    "def score_predict(df, person, simScore):\n",
    "    sScore = []\n",
    "    pScore = []\n",
    "    \n",
    "    for key in simScore:\n",
    "        ss = simScore[key]\n",
    "        sScore.append(ss)\n",
    "        pScore.append(df.loc[person,key] * ss)\n",
    "        \n",
    "    prediction = sum(pScore)/sum(sScore)\n",
    "    return prediction"
   ]
  },
  {
   "cell_type": "code",
   "execution_count": 122,
   "metadata": {},
   "outputs": [
    {
     "data": {
      "text/html": [
       "<div>\n",
       "<style scoped>\n",
       "    .dataframe tbody tr th:only-of-type {\n",
       "        vertical-align: middle;\n",
       "    }\n",
       "\n",
       "    .dataframe tbody tr th {\n",
       "        vertical-align: top;\n",
       "    }\n",
       "\n",
       "    .dataframe thead th {\n",
       "        text-align: right;\n",
       "    }\n",
       "</style>\n",
       "<table border=\"1\" class=\"dataframe\">\n",
       "  <thead>\n",
       "    <tr style=\"text-align: right;\">\n",
       "      <th></th>\n",
       "      <th>Mozart</th>\n",
       "      <th>Bach</th>\n",
       "      <th>Chopin</th>\n",
       "      <th>Brahms</th>\n",
       "      <th>Wagner</th>\n",
       "      <th>Liszt</th>\n",
       "    </tr>\n",
       "  </thead>\n",
       "  <tbody>\n",
       "    <tr>\n",
       "      <th>Charlie</th>\n",
       "      <td>5</td>\n",
       "      <td>4</td>\n",
       "      <td>0</td>\n",
       "      <td>5</td>\n",
       "      <td>3</td>\n",
       "      <td>2</td>\n",
       "    </tr>\n",
       "    <tr>\n",
       "      <th>David</th>\n",
       "      <td>5</td>\n",
       "      <td>5</td>\n",
       "      <td>5</td>\n",
       "      <td>0</td>\n",
       "      <td>2</td>\n",
       "      <td>1</td>\n",
       "    </tr>\n",
       "    <tr>\n",
       "      <th>Erik</th>\n",
       "      <td>3</td>\n",
       "      <td>3</td>\n",
       "      <td>4</td>\n",
       "      <td>3</td>\n",
       "      <td>0</td>\n",
       "      <td>2</td>\n",
       "    </tr>\n",
       "    <tr>\n",
       "      <th>Frank</th>\n",
       "      <td>2</td>\n",
       "      <td>2</td>\n",
       "      <td>1</td>\n",
       "      <td>1</td>\n",
       "      <td>3</td>\n",
       "      <td>0</td>\n",
       "    </tr>\n",
       "  </tbody>\n",
       "</table>\n",
       "</div>"
      ],
      "text/plain": [
       "         Mozart  Bach  Chopin  Brahms  Wagner  Liszt\n",
       "Charlie       5     4       0       5       3      2\n",
       "David         5     5       5       0       2      1\n",
       "Erik          3     3       4       3       0      2\n",
       "Frank         2     2       1       1       3      0"
      ]
     },
     "execution_count": 122,
     "metadata": {},
     "output_type": "execute_result"
    }
   ],
   "source": [
    "drop_rows_with_zeros(ex.iloc[:, :6])"
   ]
  },
  {
   "cell_type": "code",
   "execution_count": 124,
   "metadata": {},
   "outputs": [
    {
     "data": {
      "text/html": [
       "<div>\n",
       "<style scoped>\n",
       "    .dataframe tbody tr th:only-of-type {\n",
       "        vertical-align: middle;\n",
       "    }\n",
       "\n",
       "    .dataframe tbody tr th {\n",
       "        vertical-align: top;\n",
       "    }\n",
       "\n",
       "    .dataframe thead th {\n",
       "        text-align: right;\n",
       "    }\n",
       "</style>\n",
       "<table border=\"1\" class=\"dataframe\">\n",
       "  <thead>\n",
       "    <tr style=\"text-align: right;\">\n",
       "      <th></th>\n",
       "      <th>Mozart</th>\n",
       "      <th>Liszt</th>\n",
       "    </tr>\n",
       "  </thead>\n",
       "  <tbody>\n",
       "    <tr>\n",
       "      <th>Baker</th>\n",
       "      <td>5</td>\n",
       "      <td>3</td>\n",
       "    </tr>\n",
       "    <tr>\n",
       "      <th>Charlie</th>\n",
       "      <td>5</td>\n",
       "      <td>2</td>\n",
       "    </tr>\n",
       "    <tr>\n",
       "      <th>David</th>\n",
       "      <td>5</td>\n",
       "      <td>1</td>\n",
       "    </tr>\n",
       "    <tr>\n",
       "      <th>Erik</th>\n",
       "      <td>3</td>\n",
       "      <td>2</td>\n",
       "    </tr>\n",
       "  </tbody>\n",
       "</table>\n",
       "</div>"
      ],
      "text/plain": [
       "         Mozart  Liszt\n",
       "Baker         5      3\n",
       "Charlie       5      2\n",
       "David         5      1\n",
       "Erik          3      2"
      ]
     },
     "execution_count": 124,
     "metadata": {},
     "output_type": "execute_result"
    }
   ],
   "source": [
    "for mus in ex.columns[1:]:\n",
    "    no_zeros = drop_rows_with_zeros(ex[['Mozart', mus]])\n",
    "no_zeros"
   ]
  },
  {
   "cell_type": "code",
   "execution_count": 123,
   "metadata": {
    "deletable": false,
    "editable": false,
    "nbgrader": {
     "grade": false,
     "locked": true,
     "solution": false
    }
   },
   "outputs": [
    {
     "name": "stdout",
     "output_type": "stream",
     "text": [
      "{'Bach': 0.97, 'Chopin': 0.84, 'Brahms': 0.81, 'Wagner': 0.33, 'Liszt': 0.5}\n"
     ]
    }
   ],
   "source": [
    "mozSimScores = {}\n",
    "for mus in ex.columns[1:]:\n",
    "    no_zeros = drop_rows_with_zeros(ex[['Mozart', mus]])\n",
    "    \n",
    "    mozSimScores[mus] = round(p_sim(no_zeros.iloc[:,0], no_zeros.iloc[:,1]),2)\n",
    "\n",
    "print(mozSimScores)"
   ]
  },
  {
   "cell_type": "markdown",
   "metadata": {
    "deletable": false,
    "editable": false,
    "nbgrader": {
     "grade": false,
     "locked": true,
     "solution": false
    }
   },
   "source": [
    "<a id=\"q06\"></a>\n",
    "[Return to top](#questions)\n",
    "### Question 06\n",
    "\n",
    "Given the similarity scores calculated and stored in `mozSimScores`, use the above formula to predict Abel's score for Mozart. Assign your result to the variable ans1.Make sure that is answer is accurate to 3 decimal places.\n",
    "\n",
    "*Hint*: Use the rounded score computed above."
   ]
  },
  {
   "cell_type": "code",
   "execution_count": 127,
   "metadata": {},
   "outputs": [
    {
     "data": {
      "text/plain": [
       "1.768"
      ]
     },
     "execution_count": 127,
     "metadata": {},
     "output_type": "execute_result"
    }
   ],
   "source": [
    "round(score_predict(ex,'Abel',mozSimScores),3)"
   ]
  },
  {
   "cell_type": "code",
   "execution_count": 128,
   "metadata": {},
   "outputs": [],
   "source": [
    "### GRADED\n",
    "# Given the similarity scores calculated and stored in `mozSimScores`, use the above \n",
    "# formula to predict Abel's score for Mozart. Assign your result to the variable ans1.\n",
    "# Make sure that is answer is accurate to 3 decimal places.\n",
    "\n",
    "\n",
    "# *Hint*: Use the rounded score computed above.\n",
    "\n",
    "###  YOUR SOLUTION HERE\n",
    "def score_predict(df, person, simScore):\n",
    "    sScore = []\n",
    "    pScore = []\n",
    "    \n",
    "    for key in simScore:\n",
    "        ss = simScore[key]\n",
    "        sScore.append(ss)\n",
    "        pScore.append(df.loc[person,key] * ss)\n",
    "        \n",
    "    prediction = sum(pScore)/sum(sScore)\n",
    "    return prediction\n",
    "\n",
    "ans1 = round(score_predict(ex,'Abel',mozSimScores),3)\n",
    "###\n",
    "### YOUR CODE HERE\n",
    "###\n"
   ]
  },
  {
   "cell_type": "code",
   "execution_count": 129,
   "metadata": {
    "deletable": false,
    "editable": false,
    "nbgrader": {
     "grade": true,
     "grade_id": "Q-06",
     "locked": true,
     "points": "10",
     "solution": false
    }
   },
   "outputs": [],
   "source": [
    "###\n",
    "### AUTOGRADER TEST - DO NOT REMOVE\n",
    "###\n"
   ]
  },
  {
   "cell_type": "markdown",
   "metadata": {
    "deletable": false,
    "editable": false,
    "nbgrader": {
     "grade": false,
     "locked": true,
     "solution": false
    }
   },
   "source": [
    "We observe that, although many other users gave Mozart high scores, because Abel appears to be less generous in his reviews, his predicted score for Mozart is fairly low. \n",
    "\n",
    "The function defined below predicts an unknown score based on the formula above."
   ]
  },
  {
   "cell_type": "code",
   "execution_count": 130,
   "metadata": {
    "deletable": false,
    "editable": false,
    "nbgrader": {
     "grade": false,
     "locked": true,
     "solution": false
    }
   },
   "outputs": [],
   "source": [
    "### Creating a function to create predictions in the manner described above.\n",
    "### Note: \"user\" is a row, and \"item\" is a column in the df.\n",
    "### simFunc defaults to p_sim\n",
    "\n",
    "def scorePred(df, user, item, simFunc = p_sim, rev_items = None):\n",
    "    \"\"\"\n",
    "    Positional Arguments --\n",
    "        df: Pandas DataFrame\n",
    "        user: Row-index in df\n",
    "        item: Column-index in df\n",
    "        simFunc: a similarity function (e_sim, p_sim, or c_sim)\n",
    "        rev_items: For larger dfs, specifies all items reviewed by \"user\"\n",
    "    \"\"\"\n",
    "    # Check to see if user has already scored item\n",
    "    if df.loc[user,item] > 0:\n",
    "        return \"Already rated a \"+str(df.loc[user,item])\n",
    "    \n",
    "    # rev_items used for larger DataFrame,\n",
    "    # when you have all the items a particular user has reviewed already\n",
    "    # otherwise, if \"None\" (if statement below)\n",
    "    # take all other items other than item to predict\n",
    "    if not rev_items:\n",
    "        rev_items = set(df.columns)\n",
    "        rev_items.remove(item)\n",
    "    \n",
    "    sim_total, user_sim_total = 0,0\n",
    "    \n",
    "    for other_item in rev_items:\n",
    "        user_score_other_item = df.loc[user, other_item] # grab user score\n",
    "        \n",
    "        if user_score_other_item == 0:\n",
    "            print(\"no user score\")\n",
    "            continue\n",
    "        \n",
    "        # Use function built above to drop all other users with \"other_item\" score of \"0\"\n",
    "        no_zeros = drop_rows_with_zeros(df[[item, other_item]]) \n",
    "        sh = no_zeros.shape\n",
    "        \n",
    "        # If no other users, move to next item\n",
    "        if sh[0] == 0:\n",
    "            continue\n",
    "            \n",
    "        #print(no_zeros.shape)\n",
    "        \n",
    "        # calculate similarity score using non-zero information. \n",
    "        ser1 = no_zeros.iloc[:,0]\n",
    "        ser2 = no_zeros.iloc[:,1]\n",
    "        # print(ser1, ser2)\n",
    "        ss = simFunc(no_zeros.iloc[:,0], no_zeros.iloc[:,1])\n",
    "        # print(ss, user_score_other_item)\n",
    "        \n",
    "        # add up sim total and weighted sim total\n",
    "        sim_total += ss\n",
    "        user_sim_total += user_score_other_item * ss\n",
    "\n",
    "        \n",
    "    if sim_total == 0:\n",
    "        return 0\n",
    "    \n",
    "    else:\n",
    "        return user_sim_total / sim_total"
   ]
  },
  {
   "cell_type": "code",
   "execution_count": 131,
   "metadata": {
    "deletable": false,
    "editable": false,
    "nbgrader": {
     "grade": false,
     "locked": true,
     "solution": false
    }
   },
   "outputs": [
    {
     "data": {
      "text/html": [
       "<div>\n",
       "<style scoped>\n",
       "    .dataframe tbody tr th:only-of-type {\n",
       "        vertical-align: middle;\n",
       "    }\n",
       "\n",
       "    .dataframe tbody tr th {\n",
       "        vertical-align: top;\n",
       "    }\n",
       "\n",
       "    .dataframe thead th {\n",
       "        text-align: right;\n",
       "    }\n",
       "</style>\n",
       "<table border=\"1\" class=\"dataframe\">\n",
       "  <thead>\n",
       "    <tr style=\"text-align: right;\">\n",
       "      <th></th>\n",
       "      <th>Mozart</th>\n",
       "      <th>Bach</th>\n",
       "      <th>Chopin</th>\n",
       "      <th>Brahms</th>\n",
       "      <th>Wagner</th>\n",
       "      <th>Liszt</th>\n",
       "    </tr>\n",
       "  </thead>\n",
       "  <tbody>\n",
       "    <tr>\n",
       "      <th>Abel</th>\n",
       "      <td>0</td>\n",
       "      <td>1</td>\n",
       "      <td>2</td>\n",
       "      <td>2</td>\n",
       "      <td>1</td>\n",
       "      <td>3</td>\n",
       "    </tr>\n",
       "    <tr>\n",
       "      <th>Baker</th>\n",
       "      <td>5</td>\n",
       "      <td>0</td>\n",
       "      <td>3</td>\n",
       "      <td>2</td>\n",
       "      <td>3</td>\n",
       "      <td>3</td>\n",
       "    </tr>\n",
       "    <tr>\n",
       "      <th>Charlie</th>\n",
       "      <td>5</td>\n",
       "      <td>4</td>\n",
       "      <td>0</td>\n",
       "      <td>5</td>\n",
       "      <td>3</td>\n",
       "      <td>2</td>\n",
       "    </tr>\n",
       "    <tr>\n",
       "      <th>David</th>\n",
       "      <td>5</td>\n",
       "      <td>5</td>\n",
       "      <td>5</td>\n",
       "      <td>0</td>\n",
       "      <td>2</td>\n",
       "      <td>1</td>\n",
       "    </tr>\n",
       "    <tr>\n",
       "      <th>Erik</th>\n",
       "      <td>3</td>\n",
       "      <td>3</td>\n",
       "      <td>4</td>\n",
       "      <td>3</td>\n",
       "      <td>0</td>\n",
       "      <td>2</td>\n",
       "    </tr>\n",
       "    <tr>\n",
       "      <th>Frank</th>\n",
       "      <td>2</td>\n",
       "      <td>2</td>\n",
       "      <td>1</td>\n",
       "      <td>1</td>\n",
       "      <td>3</td>\n",
       "      <td>0</td>\n",
       "    </tr>\n",
       "  </tbody>\n",
       "</table>\n",
       "</div>"
      ],
      "text/plain": [
       "         Mozart  Bach  Chopin  Brahms  Wagner  Liszt\n",
       "Abel          0     1       2       2       1      3\n",
       "Baker         5     0       3       2       3      3\n",
       "Charlie       5     4       0       5       3      2\n",
       "David         5     5       5       0       2      1\n",
       "Erik          3     3       4       3       0      2\n",
       "Frank         2     2       1       1       3      0"
      ]
     },
     "execution_count": 131,
     "metadata": {},
     "output_type": "execute_result"
    }
   ],
   "source": [
    "ex"
   ]
  },
  {
   "cell_type": "markdown",
   "metadata": {
    "deletable": false,
    "editable": false,
    "nbgrader": {
     "grade": false,
     "locked": true,
     "solution": false
    }
   },
   "source": [
    "Use the cells below to compute the unknown score for different cases using the function `scorePred` defined above."
   ]
  },
  {
   "cell_type": "code",
   "execution_count": 132,
   "metadata": {},
   "outputs": [
    {
     "data": {
      "text/plain": [
       "3.292113254792299"
      ]
     },
     "execution_count": 132,
     "metadata": {},
     "output_type": "execute_result"
    }
   ],
   "source": [
    "scorePred(ex, 'Baker', 'Bach')"
   ]
  },
  {
   "cell_type": "markdown",
   "metadata": {
    "deletable": false,
    "editable": false,
    "nbgrader": {
     "grade": false,
     "locked": true,
     "solution": false
    }
   },
   "source": [
    "<a id = \"ret\"></a>\n",
    "### Returning to the Data\n",
    "Let's go back to the Amazon rating DataFrame"
   ]
  },
  {
   "cell_type": "code",
   "execution_count": 133,
   "metadata": {
    "deletable": false,
    "editable": false,
    "nbgrader": {
     "grade": false,
     "locked": true,
     "solution": false
    }
   },
   "outputs": [
    {
     "data": {
      "text/html": [
       "<div>\n",
       "<style scoped>\n",
       "    .dataframe tbody tr th:only-of-type {\n",
       "        vertical-align: middle;\n",
       "    }\n",
       "\n",
       "    .dataframe tbody tr th {\n",
       "        vertical-align: top;\n",
       "    }\n",
       "\n",
       "    .dataframe thead th {\n",
       "        text-align: right;\n",
       "    }\n",
       "</style>\n",
       "<table border=\"1\" class=\"dataframe\">\n",
       "  <thead>\n",
       "    <tr style=\"text-align: right;\">\n",
       "      <th></th>\n",
       "      <th>reviewerID</th>\n",
       "      <th>productID</th>\n",
       "      <th>score</th>\n",
       "    </tr>\n",
       "  </thead>\n",
       "  <tbody>\n",
       "    <tr>\n",
       "      <th>0</th>\n",
       "      <td>R0</td>\n",
       "      <td>P6181</td>\n",
       "      <td>5</td>\n",
       "    </tr>\n",
       "    <tr>\n",
       "      <th>1</th>\n",
       "      <td>R0</td>\n",
       "      <td>P2276</td>\n",
       "      <td>2</td>\n",
       "    </tr>\n",
       "    <tr>\n",
       "      <th>2</th>\n",
       "      <td>R0</td>\n",
       "      <td>P1382</td>\n",
       "      <td>5</td>\n",
       "    </tr>\n",
       "    <tr>\n",
       "      <th>3</th>\n",
       "      <td>R0</td>\n",
       "      <td>P4797</td>\n",
       "      <td>5</td>\n",
       "    </tr>\n",
       "    <tr>\n",
       "      <th>4</th>\n",
       "      <td>R0</td>\n",
       "      <td>P281</td>\n",
       "      <td>1</td>\n",
       "    </tr>\n",
       "    <tr>\n",
       "      <th>5</th>\n",
       "      <td>R0</td>\n",
       "      <td>P5556</td>\n",
       "      <td>5</td>\n",
       "    </tr>\n",
       "    <tr>\n",
       "      <th>6</th>\n",
       "      <td>R0</td>\n",
       "      <td>P1523</td>\n",
       "      <td>4</td>\n",
       "    </tr>\n",
       "    <tr>\n",
       "      <th>7</th>\n",
       "      <td>R0</td>\n",
       "      <td>P4693</td>\n",
       "      <td>4</td>\n",
       "    </tr>\n",
       "    <tr>\n",
       "      <th>8</th>\n",
       "      <td>R0</td>\n",
       "      <td>P5494</td>\n",
       "      <td>5</td>\n",
       "    </tr>\n",
       "    <tr>\n",
       "      <th>9</th>\n",
       "      <td>R0</td>\n",
       "      <td>P2245</td>\n",
       "      <td>5</td>\n",
       "    </tr>\n",
       "  </tbody>\n",
       "</table>\n",
       "</div>"
      ],
      "text/plain": [
       "  reviewerID productID  score\n",
       "0         R0     P6181      5\n",
       "1         R0     P2276      2\n",
       "2         R0     P1382      5\n",
       "3         R0     P4797      5\n",
       "4         R0      P281      1\n",
       "5         R0     P5556      5\n",
       "6         R0     P1523      4\n",
       "7         R0     P4693      4\n",
       "8         R0     P5494      5\n",
       "9         R0     P2245      5"
      ]
     },
     "execution_count": 133,
     "metadata": {},
     "output_type": "execute_result"
    }
   ],
   "source": [
    "rev_df.head(10)"
   ]
  },
  {
   "cell_type": "markdown",
   "metadata": {
    "deletable": false,
    "editable": false,
    "nbgrader": {
     "grade": false,
     "locked": true,
     "solution": false
    }
   },
   "source": [
    "We observe that now the data does not conform to the two-dimensional n-by-p matrix that we have been using. Therefore, we need to manipulate our data. To do so we will use `Pandas` built-in `pivot()` attribute."
   ]
  },
  {
   "cell_type": "code",
   "execution_count": 134,
   "metadata": {
    "deletable": false,
    "editable": false,
    "nbgrader": {
     "grade": false,
     "locked": true,
     "solution": false
    }
   },
   "outputs": [
    {
     "name": "stdout",
     "output_type": "stream",
     "text": [
      "shape:  (10000, 6411)\n"
     ]
    },
    {
     "data": {
      "text/html": [
       "<div>\n",
       "<style scoped>\n",
       "    .dataframe tbody tr th:only-of-type {\n",
       "        vertical-align: middle;\n",
       "    }\n",
       "\n",
       "    .dataframe tbody tr th {\n",
       "        vertical-align: top;\n",
       "    }\n",
       "\n",
       "    .dataframe thead th {\n",
       "        text-align: right;\n",
       "    }\n",
       "</style>\n",
       "<table border=\"1\" class=\"dataframe\">\n",
       "  <thead>\n",
       "    <tr style=\"text-align: right;\">\n",
       "      <th>productID</th>\n",
       "      <th>P0</th>\n",
       "      <th>P1</th>\n",
       "      <th>P10</th>\n",
       "      <th>P100</th>\n",
       "      <th>P1000</th>\n",
       "      <th>P1001</th>\n",
       "      <th>P1002</th>\n",
       "      <th>P1003</th>\n",
       "      <th>P1004</th>\n",
       "      <th>P1005</th>\n",
       "      <th>...</th>\n",
       "      <th>P990</th>\n",
       "      <th>P991</th>\n",
       "      <th>P992</th>\n",
       "      <th>P993</th>\n",
       "      <th>P994</th>\n",
       "      <th>P995</th>\n",
       "      <th>P996</th>\n",
       "      <th>P997</th>\n",
       "      <th>P998</th>\n",
       "      <th>P999</th>\n",
       "    </tr>\n",
       "    <tr>\n",
       "      <th>reviewerID</th>\n",
       "      <th></th>\n",
       "      <th></th>\n",
       "      <th></th>\n",
       "      <th></th>\n",
       "      <th></th>\n",
       "      <th></th>\n",
       "      <th></th>\n",
       "      <th></th>\n",
       "      <th></th>\n",
       "      <th></th>\n",
       "      <th></th>\n",
       "      <th></th>\n",
       "      <th></th>\n",
       "      <th></th>\n",
       "      <th></th>\n",
       "      <th></th>\n",
       "      <th></th>\n",
       "      <th></th>\n",
       "      <th></th>\n",
       "      <th></th>\n",
       "      <th></th>\n",
       "    </tr>\n",
       "  </thead>\n",
       "  <tbody>\n",
       "    <tr>\n",
       "      <th>R0</th>\n",
       "      <td>0.0</td>\n",
       "      <td>0.0</td>\n",
       "      <td>0.0</td>\n",
       "      <td>0.0</td>\n",
       "      <td>0.0</td>\n",
       "      <td>0.0</td>\n",
       "      <td>0.0</td>\n",
       "      <td>0.0</td>\n",
       "      <td>0.0</td>\n",
       "      <td>0.0</td>\n",
       "      <td>...</td>\n",
       "      <td>0.0</td>\n",
       "      <td>0.0</td>\n",
       "      <td>0.0</td>\n",
       "      <td>0.0</td>\n",
       "      <td>0.0</td>\n",
       "      <td>0.0</td>\n",
       "      <td>0.0</td>\n",
       "      <td>0.0</td>\n",
       "      <td>0.0</td>\n",
       "      <td>0.0</td>\n",
       "    </tr>\n",
       "    <tr>\n",
       "      <th>R1</th>\n",
       "      <td>0.0</td>\n",
       "      <td>0.0</td>\n",
       "      <td>0.0</td>\n",
       "      <td>0.0</td>\n",
       "      <td>0.0</td>\n",
       "      <td>0.0</td>\n",
       "      <td>0.0</td>\n",
       "      <td>0.0</td>\n",
       "      <td>0.0</td>\n",
       "      <td>0.0</td>\n",
       "      <td>...</td>\n",
       "      <td>0.0</td>\n",
       "      <td>0.0</td>\n",
       "      <td>0.0</td>\n",
       "      <td>0.0</td>\n",
       "      <td>0.0</td>\n",
       "      <td>0.0</td>\n",
       "      <td>0.0</td>\n",
       "      <td>0.0</td>\n",
       "      <td>0.0</td>\n",
       "      <td>0.0</td>\n",
       "    </tr>\n",
       "    <tr>\n",
       "      <th>R10</th>\n",
       "      <td>0.0</td>\n",
       "      <td>0.0</td>\n",
       "      <td>0.0</td>\n",
       "      <td>0.0</td>\n",
       "      <td>0.0</td>\n",
       "      <td>0.0</td>\n",
       "      <td>0.0</td>\n",
       "      <td>0.0</td>\n",
       "      <td>0.0</td>\n",
       "      <td>0.0</td>\n",
       "      <td>...</td>\n",
       "      <td>0.0</td>\n",
       "      <td>0.0</td>\n",
       "      <td>0.0</td>\n",
       "      <td>0.0</td>\n",
       "      <td>0.0</td>\n",
       "      <td>0.0</td>\n",
       "      <td>0.0</td>\n",
       "      <td>0.0</td>\n",
       "      <td>0.0</td>\n",
       "      <td>0.0</td>\n",
       "    </tr>\n",
       "    <tr>\n",
       "      <th>R100</th>\n",
       "      <td>0.0</td>\n",
       "      <td>0.0</td>\n",
       "      <td>0.0</td>\n",
       "      <td>0.0</td>\n",
       "      <td>0.0</td>\n",
       "      <td>0.0</td>\n",
       "      <td>0.0</td>\n",
       "      <td>0.0</td>\n",
       "      <td>0.0</td>\n",
       "      <td>0.0</td>\n",
       "      <td>...</td>\n",
       "      <td>0.0</td>\n",
       "      <td>0.0</td>\n",
       "      <td>0.0</td>\n",
       "      <td>0.0</td>\n",
       "      <td>0.0</td>\n",
       "      <td>0.0</td>\n",
       "      <td>0.0</td>\n",
       "      <td>0.0</td>\n",
       "      <td>0.0</td>\n",
       "      <td>0.0</td>\n",
       "    </tr>\n",
       "    <tr>\n",
       "      <th>R1000</th>\n",
       "      <td>0.0</td>\n",
       "      <td>0.0</td>\n",
       "      <td>0.0</td>\n",
       "      <td>0.0</td>\n",
       "      <td>0.0</td>\n",
       "      <td>0.0</td>\n",
       "      <td>0.0</td>\n",
       "      <td>0.0</td>\n",
       "      <td>0.0</td>\n",
       "      <td>0.0</td>\n",
       "      <td>...</td>\n",
       "      <td>0.0</td>\n",
       "      <td>0.0</td>\n",
       "      <td>0.0</td>\n",
       "      <td>0.0</td>\n",
       "      <td>0.0</td>\n",
       "      <td>0.0</td>\n",
       "      <td>0.0</td>\n",
       "      <td>0.0</td>\n",
       "      <td>0.0</td>\n",
       "      <td>0.0</td>\n",
       "    </tr>\n",
       "  </tbody>\n",
       "</table>\n",
       "<p>5 rows × 6411 columns</p>\n",
       "</div>"
      ],
      "text/plain": [
       "productID    P0   P1  P10  P100  P1000  P1001  P1002  P1003  P1004  P1005  \\\n",
       "reviewerID                                                                  \n",
       "R0          0.0  0.0  0.0   0.0    0.0    0.0    0.0    0.0    0.0    0.0   \n",
       "R1          0.0  0.0  0.0   0.0    0.0    0.0    0.0    0.0    0.0    0.0   \n",
       "R10         0.0  0.0  0.0   0.0    0.0    0.0    0.0    0.0    0.0    0.0   \n",
       "R100        0.0  0.0  0.0   0.0    0.0    0.0    0.0    0.0    0.0    0.0   \n",
       "R1000       0.0  0.0  0.0   0.0    0.0    0.0    0.0    0.0    0.0    0.0   \n",
       "\n",
       "productID   ...  P990  P991  P992  P993  P994  P995  P996  P997  P998  P999  \n",
       "reviewerID  ...                                                              \n",
       "R0          ...   0.0   0.0   0.0   0.0   0.0   0.0   0.0   0.0   0.0   0.0  \n",
       "R1          ...   0.0   0.0   0.0   0.0   0.0   0.0   0.0   0.0   0.0   0.0  \n",
       "R10         ...   0.0   0.0   0.0   0.0   0.0   0.0   0.0   0.0   0.0   0.0  \n",
       "R100        ...   0.0   0.0   0.0   0.0   0.0   0.0   0.0   0.0   0.0   0.0  \n",
       "R1000       ...   0.0   0.0   0.0   0.0   0.0   0.0   0.0   0.0   0.0   0.0  \n",
       "\n",
       "[5 rows x 6411 columns]"
      ]
     },
     "execution_count": 134,
     "metadata": {},
     "output_type": "execute_result"
    }
   ],
   "source": [
    "# Reviewers on rows, item on cols. \n",
    "reshaped_reviews = rev_df.pivot(index = 'reviewerID', columns = 'productID')\n",
    "reshaped_reviews.fillna(0, inplace = True) # turns NA into 0\n",
    "reshaped_reviews.columns = reshaped_reviews.columns.droplevel() # removes artifact of pivot function\n",
    "\n",
    "\n",
    "print(\"shape: \", reshaped_reviews.shape)\n",
    "reshaped_reviews.head()"
   ]
  },
  {
   "cell_type": "markdown",
   "metadata": {
    "deletable": false,
    "editable": false,
    "nbgrader": {
     "grade": false,
     "locked": true,
     "solution": false
    }
   },
   "source": [
    "It should be clear from the output above that the majority of the entries corresponding to a certain pair of costumer and product are now empty. Thus, when trying to provide recommendations, it will not be possible to predict scores for every  combination of costumer and product. In fact, to predict scores, we require a certain amount of overlap between the data.\n",
    "\n",
    "Below predictions are created for our reviewer called \"R0\""
   ]
  },
  {
   "cell_type": "code",
   "execution_count": 135,
   "metadata": {
    "deletable": false,
    "editable": false,
    "nbgrader": {
     "grade": false,
     "locked": true,
     "solution": false
    }
   },
   "outputs": [
    {
     "name": "stdout",
     "output_type": "stream",
     "text": [
      "20\n"
     ]
    },
    {
     "data": {
      "text/plain": [
       "['P1382', 'P1523', 'P198', 'P2245', 'P2276']"
      ]
     },
     "execution_count": 135,
     "metadata": {},
     "output_type": "execute_result"
    }
   ],
   "source": [
    "### First, find the products that 'R0' has reviewed.\n",
    "### These are the products that will be used for creating similarity scores.\n",
    "\n",
    "r0 = reshaped_reviews.loc[\"R0\", :]\n",
    "# numpy function returns all indexes that are not \"0\"\n",
    "r0_nonzero = r0.to_numpy().nonzero()\n",
    "# collect names of reviewed products\n",
    "r0_rev_prods = list(r0.iloc[r0_nonzero].index) \n",
    "print(len(r0_rev_prods))\n",
    "r0_rev_prods[:5]"
   ]
  },
  {
   "cell_type": "markdown",
   "metadata": {},
   "source": [
    "Next, we create a list containing the product that have not been reviewed by R0."
   ]
  },
  {
   "cell_type": "code",
   "execution_count": 136,
   "metadata": {
    "deletable": false,
    "editable": false,
    "nbgrader": {
     "grade": false,
     "locked": true,
     "solution": false
    }
   },
   "outputs": [
    {
     "name": "stdout",
     "output_type": "stream",
     "text": [
      "6391\n"
     ]
    },
    {
     "data": {
      "text/plain": [
       "array(['P0', 'P1', 'P10', ..., 'P997', 'P998', 'P999'], dtype=object)"
      ]
     },
     "execution_count": 136,
     "metadata": {},
     "output_type": "execute_result"
    }
   ],
   "source": [
    "### Creating a list of products not reviewed by R0\n",
    "\n",
    "# return list of all prods not in the \"reviewed\" list\n",
    "r0_not_rev = np.setdiff1d(reshaped_reviews.columns, r0_rev_prods) \n",
    "\n",
    "print(len(r0_not_rev))\n",
    "r0_not_rev"
   ]
  },
  {
   "cell_type": "markdown",
   "metadata": {
    "deletable": false,
    "editable": false,
    "nbgrader": {
     "grade": false,
     "locked": true,
     "solution": false
    }
   },
   "source": [
    "The commands below require too much processing for Vocareum. \n",
    "```python\n",
    "### predict scores for products not yet reviewed by R0, using function built above: `scorePred`\n",
    "### cosine similarity used because if a product all has only one value of review (e.g. all 5s)\n",
    "### then the standard_deviation is 0 and the correlation coefficient is not calculable\n",
    "\n",
    "preds = {}\n",
    "for item in r0_not_rev:\n",
    "   preds[item] = scorePred(reshaped_reviews, 'R0', item, simFunc = c_sim, rev_items = r0_rev_prods)\n",
    "\n",
    "pd.Series(preds).sort_values(ascending = False).head(10)\n",
    "```\n",
    "We simply display the output below:"
   ]
  },
  {
   "cell_type": "markdown",
   "metadata": {
    "deletable": false,
    "editable": false,
    "nbgrader": {
     "grade": false,
     "locked": true,
     "solution": false
    }
   },
   "source": [
    "```\n",
    "P470     5.0\n",
    "P2342    5.0\n",
    "P4839    5.0\n",
    "P4796    5.0\n",
    "P2703    5.0\n",
    "P4800    5.0\n",
    "P615     5.0\n",
    "P4806    5.0\n",
    "P2699    5.0\n",
    "P1533    5.0\n",
    "dtype: float64\n",
    "```"
   ]
  },
  {
   "cell_type": "markdown",
   "metadata": {
    "deletable": false,
    "editable": false,
    "nbgrader": {
     "grade": false,
     "locked": true,
     "solution": false
    }
   },
   "source": [
    "<a id = \"util\"></a>\n",
    "### Utilization Complexities\n",
    "\n",
    "Certainly, if  a product is likely to score a \"5\", then that product should be recommended. However, because we are dealing with very sparse data, the confidence in our predictions will vary between each product.\n",
    "\n",
    "<a id=\"q07\"></a>\n",
    "[Return to top](#questions)\n",
    "### Question 07\n",
    "\n",
    "Consider 3 products: `A`, `B`, and `X`. Assume that `userN` has ranked both products `A`, and `B` with a score of 5. Assume that `user1` has ranked products `A`, and `X` both with score 3 and assume that user2 has ranked products `B` and `X` with score 2.\n",
    "\n",
    "What will be the similarity score between product `A` and product `X`? Assign the result the the variable ans1.\n",
    "\n",
    "What will be the similarity score between product `B` and product `X`? Assign the result the the variable ans2.\n"
   ]
  },
  {
   "cell_type": "code",
   "execution_count": 141,
   "metadata": {},
   "outputs": [
    {
     "data": {
      "text/plain": [
       "1.0"
      ]
     },
     "execution_count": 141,
     "metadata": {},
     "output_type": "execute_result"
    }
   ],
   "source": [
    "a = np.array([5, 3])\n",
    "b = np.array([5, 2])\n",
    "x = np.array([3, 2])\n",
    "\n",
    "p_sim(b, x)"
   ]
  },
  {
   "cell_type": "code",
   "execution_count": 142,
   "metadata": {},
   "outputs": [],
   "source": [
    "### GRADED\n",
    "# Consider 3 products: `A`, `B`, and `X`. Assume that `userN` has ranked both products `A`, and `B` \n",
    "# with a score of 5. Assume that `user1` has ranked products `A`, and `X` both with score 3 and assume \n",
    "# that user2 has ranked products `B` and `X` with score 2.\n",
    "\n",
    "# What will be the similarity score between product `A` and product `X`? Assign the result the the variable ans1.\n",
    "\n",
    "#What will be the similarity score between product `B` and product `X`? Assign the result the the variable ans2.\n",
    "### YOUR SOLUTION HERE\n",
    "\n",
    "ans1 = 1.0\n",
    "ans2 = 1.0\n",
    "###\n",
    "### YOUR CODE HERE\n",
    "###\n"
   ]
  },
  {
   "cell_type": "code",
   "execution_count": 143,
   "metadata": {
    "deletable": false,
    "editable": false,
    "nbgrader": {
     "grade": true,
     "grade_id": "Q-07",
     "locked": true,
     "points": "15",
     "solution": false
    }
   },
   "outputs": [],
   "source": [
    "###\n",
    "### AUTOGRADER TEST - DO NOT REMOVE\n",
    "###\n"
   ]
  },
  {
   "cell_type": "markdown",
   "metadata": {
    "deletable": false,
    "editable": false,
    "nbgrader": {
     "grade": false,
     "locked": true,
     "solution": false
    }
   },
   "source": [
    "<a id=\"q08\"></a>\n",
    "[Return to top](#questions)\n",
    "### Question 08\n",
    "\n",
    "Given your answer above, what will be the predicted score of `userN` for product `X`?\n",
    "\n",
    "Assign your result to the variable ans1."
   ]
  },
  {
   "cell_type": "code",
   "execution_count": 144,
   "metadata": {},
   "outputs": [],
   "source": [
    "### GRADED\n",
    "#Given your answer above, what will be the predicted score of `userN` for product `X`?\n",
    "\n",
    "#Assign your result to the variable ans1.\n",
    "###  YOUR SOLUTION HERE\n",
    "ans1 = 5\n",
    "###\n",
    "### YOUR CODE HERE\n",
    "###\n"
   ]
  },
  {
   "cell_type": "code",
   "execution_count": 145,
   "metadata": {
    "deletable": false,
    "editable": false,
    "nbgrader": {
     "grade": true,
     "grade_id": "Q-08",
     "locked": true,
     "points": "15",
     "solution": false
    }
   },
   "outputs": [],
   "source": [
    "###\n",
    "### AUTOGRADER TEST - DO NOT REMOVE\n",
    "###\n"
   ]
  },
  {
   "cell_type": "markdown",
   "metadata": {
    "deletable": false,
    "editable": false,
    "nbgrader": {
     "grade": false,
     "locked": true,
     "solution": false
    }
   },
   "source": [
    "it is important to note that we could have run into other possible scenarios: high similarity scores because of few overlapping reviews, or high-user score for the user who is being predicted for.  \n",
    "\n",
    "<a id = \"svd\"></a>\n",
    "### Singular Value Decomposition (SVD)\n",
    "\n",
    "We can deal with the sparsity of data and, at the same time, increase the speed of our algorithm,  by using Singular Value Decomposition (SVD). SVD is a technique that reduces the dimensionality of functions by \"capturing\" a majority of the information present in a dataset in a smaller number of variables.  \n",
    "\n",
    "SVD relies upon some straight-forward linear algebra that is worth understanding. The main concept have been covered  in the lectures. Here are some more insightful resources about SVD.  \n",
    "\n",
    "[Here is a nice introduction.](https://machinelearningmastery.com/singular-value-decomposition-for-machine-learning/)  \n",
    "\n",
    "[Below, we will use `numpy's` implementation of SVD](https://docs.scipy.org/doc/numpy-1.14.0/reference/generated/numpy.linalg.svd.html)"
   ]
  },
  {
   "cell_type": "markdown",
   "metadata": {
    "deletable": false,
    "editable": false,
    "nbgrader": {
     "grade": false,
     "locked": true,
     "solution": false
    }
   },
   "source": [
    "We have learned that the quantity $\\Sigma ^2$ describes the variance of each vector. The plot below displays the rate of the variance given by n vectors as a function of the total number of products.\n",
    "\n",
    "![svd](./assets/svd.PNG)\n",
    "\n",
    "We notice that about 1700 of the decomposed vectors will give around 80% of the variance in the data. Computationally, this will make the calculations much faster: in fact, considering only 1/3 of the vectors will yield 80% of the value. "
   ]
  },
  {
   "cell_type": "code",
   "execution_count": 146,
   "metadata": {
    "deletable": false,
    "editable": false,
    "nbgrader": {
     "grade": false,
     "locked": true,
     "solution": false
    }
   },
   "outputs": [
    {
     "data": {
      "text/plain": [
       "(10000, 6411)"
      ]
     },
     "execution_count": 146,
     "metadata": {},
     "output_type": "execute_result"
    }
   ],
   "source": [
    "reshaped_reviews.shape"
   ]
  },
  {
   "cell_type": "code",
   "execution_count": 147,
   "metadata": {},
   "outputs": [],
   "source": [
    "u, sigma, _ = np.linalg.svd(reshaped_reviews)"
   ]
  },
  {
   "cell_type": "code",
   "execution_count": 148,
   "metadata": {},
   "outputs": [],
   "source": [
    "def return_svd(df , u, sigma, n):\n",
    "    sigN = np.mat(np.eye(n) * sigma[:n]) #arrange Sig4 into a diagonal matrix\n",
    "    n_svd_vectors = np.dot(df.T, np.dot(u[:,:n] , sigN.I))  #create transformed items\n",
    "    return pd.DataFrame(n_svd_vectors).T"
   ]
  },
  {
   "cell_type": "markdown",
   "metadata": {
    "deletable": false,
    "editable": false,
    "nbgrader": {
     "grade": false,
     "locked": true,
     "solution": false
    }
   },
   "source": [
    "The commands below take too long to run for Vocareum. \n",
    "```python\n",
    "# Perform SVD\n",
    "u, sigma, _ = np.linalg.svd(reshaped_reviews)\n",
    "\n",
    "# Create function to decompose DataFrame\n",
    "def return_svd(df , u, sigma, n):\n",
    "   sigN = np.mat(np.eye(n) * sigma[:n]) #arrange Sig4 into a diagonal matrix\n",
    "   n_svd_vectors = np.dot(df.T, np.dot(u[:,:n] , sigN.I))  #create transformed items\n",
    "   return pd.DataFrame(n_svd_vectors).T\n",
    "\n",
    "# use function to create decomposed DataFrame\n",
    "svd_df = return_svd(reshaped_reviews, u, sigma, 1700)\n",
    "svd_df.columns = reshaped_reviews.columns\n",
    "\n",
    "# Save DataFrame\n",
    "\n",
    "svd_df.to_csv(\"svd_df.csv\")\n",
    "```\n",
    "The results are loaded below:"
   ]
  },
  {
   "cell_type": "code",
   "execution_count": 149,
   "metadata": {
    "deletable": false,
    "editable": false,
    "nbgrader": {
     "grade": false,
     "locked": true,
     "solution": false
    }
   },
   "outputs": [
    {
     "data": {
      "text/html": [
       "<div>\n",
       "<style scoped>\n",
       "    .dataframe tbody tr th:only-of-type {\n",
       "        vertical-align: middle;\n",
       "    }\n",
       "\n",
       "    .dataframe tbody tr th {\n",
       "        vertical-align: top;\n",
       "    }\n",
       "\n",
       "    .dataframe thead th {\n",
       "        text-align: right;\n",
       "    }\n",
       "</style>\n",
       "<table border=\"1\" class=\"dataframe\">\n",
       "  <thead>\n",
       "    <tr style=\"text-align: right;\">\n",
       "      <th></th>\n",
       "      <th>P0</th>\n",
       "      <th>P1</th>\n",
       "      <th>P10</th>\n",
       "      <th>P100</th>\n",
       "      <th>P1000</th>\n",
       "      <th>P1001</th>\n",
       "      <th>P1002</th>\n",
       "      <th>P1003</th>\n",
       "      <th>P1004</th>\n",
       "      <th>P1005</th>\n",
       "      <th>...</th>\n",
       "      <th>P990</th>\n",
       "      <th>P991</th>\n",
       "      <th>P992</th>\n",
       "      <th>P993</th>\n",
       "      <th>P994</th>\n",
       "      <th>P995</th>\n",
       "      <th>P996</th>\n",
       "      <th>P997</th>\n",
       "      <th>P998</th>\n",
       "      <th>P999</th>\n",
       "    </tr>\n",
       "  </thead>\n",
       "  <tbody>\n",
       "    <tr>\n",
       "      <th>0</th>\n",
       "      <td>-0.00455</td>\n",
       "      <td>-0.00678</td>\n",
       "      <td>-0.00358</td>\n",
       "      <td>-0.00071</td>\n",
       "      <td>-0.01071</td>\n",
       "      <td>-0.00035</td>\n",
       "      <td>-0.00479</td>\n",
       "      <td>-0.00499</td>\n",
       "      <td>-0.01016</td>\n",
       "      <td>-0.01439</td>\n",
       "      <td>...</td>\n",
       "      <td>-0.00098</td>\n",
       "      <td>-0.00436</td>\n",
       "      <td>-0.00476</td>\n",
       "      <td>-0.00412</td>\n",
       "      <td>-0.00055</td>\n",
       "      <td>-0.00966</td>\n",
       "      <td>-0.00911</td>\n",
       "      <td>-0.04709</td>\n",
       "      <td>-0.00300</td>\n",
       "      <td>-0.00981</td>\n",
       "    </tr>\n",
       "    <tr>\n",
       "      <th>1</th>\n",
       "      <td>-0.00007</td>\n",
       "      <td>0.00147</td>\n",
       "      <td>0.00042</td>\n",
       "      <td>0.00011</td>\n",
       "      <td>-0.00098</td>\n",
       "      <td>0.00017</td>\n",
       "      <td>0.00300</td>\n",
       "      <td>0.00197</td>\n",
       "      <td>0.00005</td>\n",
       "      <td>0.00162</td>\n",
       "      <td>...</td>\n",
       "      <td>-0.00055</td>\n",
       "      <td>-0.00194</td>\n",
       "      <td>0.00144</td>\n",
       "      <td>-0.00253</td>\n",
       "      <td>-0.00072</td>\n",
       "      <td>0.03690</td>\n",
       "      <td>-0.02764</td>\n",
       "      <td>-0.03646</td>\n",
       "      <td>0.00020</td>\n",
       "      <td>-0.00014</td>\n",
       "    </tr>\n",
       "    <tr>\n",
       "      <th>2</th>\n",
       "      <td>0.00026</td>\n",
       "      <td>-0.00453</td>\n",
       "      <td>-0.00043</td>\n",
       "      <td>-0.00052</td>\n",
       "      <td>0.00120</td>\n",
       "      <td>-0.00018</td>\n",
       "      <td>0.00090</td>\n",
       "      <td>-0.00294</td>\n",
       "      <td>-0.00173</td>\n",
       "      <td>-0.00205</td>\n",
       "      <td>...</td>\n",
       "      <td>-0.00027</td>\n",
       "      <td>-0.00055</td>\n",
       "      <td>0.00135</td>\n",
       "      <td>-0.00186</td>\n",
       "      <td>0.00026</td>\n",
       "      <td>0.02412</td>\n",
       "      <td>0.02413</td>\n",
       "      <td>0.03749</td>\n",
       "      <td>-0.00210</td>\n",
       "      <td>-0.00532</td>\n",
       "    </tr>\n",
       "    <tr>\n",
       "      <th>3</th>\n",
       "      <td>-0.00427</td>\n",
       "      <td>-0.00329</td>\n",
       "      <td>-0.00169</td>\n",
       "      <td>0.00027</td>\n",
       "      <td>-0.00657</td>\n",
       "      <td>0.00021</td>\n",
       "      <td>-0.00054</td>\n",
       "      <td>-0.00302</td>\n",
       "      <td>-0.00879</td>\n",
       "      <td>-0.00787</td>\n",
       "      <td>...</td>\n",
       "      <td>-0.00040</td>\n",
       "      <td>-0.00358</td>\n",
       "      <td>-0.00132</td>\n",
       "      <td>-0.00214</td>\n",
       "      <td>-0.00035</td>\n",
       "      <td>0.01791</td>\n",
       "      <td>0.01203</td>\n",
       "      <td>-0.00267</td>\n",
       "      <td>-0.00246</td>\n",
       "      <td>-0.01800</td>\n",
       "    </tr>\n",
       "    <tr>\n",
       "      <th>4</th>\n",
       "      <td>0.00033</td>\n",
       "      <td>0.00946</td>\n",
       "      <td>0.00124</td>\n",
       "      <td>0.00048</td>\n",
       "      <td>0.01003</td>\n",
       "      <td>0.00043</td>\n",
       "      <td>0.00988</td>\n",
       "      <td>0.00543</td>\n",
       "      <td>0.00511</td>\n",
       "      <td>0.00913</td>\n",
       "      <td>...</td>\n",
       "      <td>0.00037</td>\n",
       "      <td>-0.00037</td>\n",
       "      <td>0.00358</td>\n",
       "      <td>0.00107</td>\n",
       "      <td>0.00025</td>\n",
       "      <td>-0.01531</td>\n",
       "      <td>-0.00231</td>\n",
       "      <td>0.03653</td>\n",
       "      <td>-0.00069</td>\n",
       "      <td>-0.00651</td>\n",
       "    </tr>\n",
       "  </tbody>\n",
       "</table>\n",
       "<p>5 rows × 6411 columns</p>\n",
       "</div>"
      ],
      "text/plain": [
       "        P0       P1      P10     P100    P1000    P1001    P1002    P1003  \\\n",
       "0 -0.00455 -0.00678 -0.00358 -0.00071 -0.01071 -0.00035 -0.00479 -0.00499   \n",
       "1 -0.00007  0.00147  0.00042  0.00011 -0.00098  0.00017  0.00300  0.00197   \n",
       "2  0.00026 -0.00453 -0.00043 -0.00052  0.00120 -0.00018  0.00090 -0.00294   \n",
       "3 -0.00427 -0.00329 -0.00169  0.00027 -0.00657  0.00021 -0.00054 -0.00302   \n",
       "4  0.00033  0.00946  0.00124  0.00048  0.01003  0.00043  0.00988  0.00543   \n",
       "\n",
       "     P1004    P1005  ...     P990     P991     P992     P993     P994  \\\n",
       "0 -0.01016 -0.01439  ... -0.00098 -0.00436 -0.00476 -0.00412 -0.00055   \n",
       "1  0.00005  0.00162  ... -0.00055 -0.00194  0.00144 -0.00253 -0.00072   \n",
       "2 -0.00173 -0.00205  ... -0.00027 -0.00055  0.00135 -0.00186  0.00026   \n",
       "3 -0.00879 -0.00787  ... -0.00040 -0.00358 -0.00132 -0.00214 -0.00035   \n",
       "4  0.00511  0.00913  ...  0.00037 -0.00037  0.00358  0.00107  0.00025   \n",
       "\n",
       "      P995     P996     P997     P998     P999  \n",
       "0 -0.00966 -0.00911 -0.04709 -0.00300 -0.00981  \n",
       "1  0.03690 -0.02764 -0.03646  0.00020 -0.00014  \n",
       "2  0.02412  0.02413  0.03749 -0.00210 -0.00532  \n",
       "3  0.01791  0.01203 -0.00267 -0.00246 -0.01800  \n",
       "4 -0.01531 -0.00231  0.03653 -0.00069 -0.00651  \n",
       "\n",
       "[5 rows x 6411 columns]"
      ]
     },
     "execution_count": 149,
     "metadata": {},
     "output_type": "execute_result"
    }
   ],
   "source": [
    "svd_df = pd.read_csv(\"./data/svd_df.csv\", index_col = 0)\n",
    "svd_df.head()"
   ]
  },
  {
   "cell_type": "markdown",
   "metadata": {
    "deletable": false,
    "editable": false,
    "nbgrader": {
     "grade": false,
     "locked": true,
     "solution": false
    }
   },
   "source": [
    "As `svd_df` indicates, the svd vectors correspond to different items. The calculation for the recommendation will be the same, but will be done by using these new values.  \n",
    "\n",
    "For example, to predict the score that reviewer \"R0\" would give to  the product 'P1' (Remember \"R0\" already reviewed \"P0\") we must follow the following steps:  \n",
    "\n",
    "1. Find the products that R0 scored.\n",
    "2. Find the similarity between those scored products and \"P1\"\n",
    "3. Multiply those similarity scores by the scores from R0\n",
    "4. Divide by sum of similarity scores.  \n",
    "\n",
    "The downside of SVD is that it must be performed before the calculations, and, as was seen above, such computations can take some time. In fact, in practice, SVD would need to be performed each time a new review is added.\n",
    "\n",
    "The following function computes the prediction scores from the `svd_df` DataFrame."
   ]
  },
  {
   "cell_type": "code",
   "execution_count": 150,
   "metadata": {
    "deletable": false,
    "editable": false,
    "nbgrader": {
     "grade": false,
     "locked": true,
     "solution": false
    }
   },
   "outputs": [],
   "source": [
    "### Creating a function to create predictions using the SVD_df\n",
    "### Note: \"user\" is a row, and \"item\" is a column in the df, and a column in svd_df.\n",
    "### simFunc defaults to p_sim\n",
    "\n",
    "def scorePredSVD(df, user, item, svd_df, simFunc = p_sim, rev_items = None):\n",
    "    \n",
    "    # Check to see if user has already scored item\n",
    "    if df.loc[user,item] > 0:\n",
    "        return \"Already rated a \"+str(df.loc[user,item])\n",
    "    \n",
    "    # Code below should be familiar from \"scorePred\" defined above\n",
    "    if not rev_items:\n",
    "        rev_items = set(df.columns)\n",
    "        rev_items.remove(item)\n",
    "    \n",
    "    sim_total, user_sim_total = 0,0\n",
    "    \n",
    "    for other_item in rev_items:\n",
    "        user_score_other_item = df.loc[user, other_item]\n",
    "        \n",
    "        if user_score_other_item == 0:\n",
    "            print(\"no user score\")\n",
    "            continue\n",
    "            \n",
    "        ser1 = svd_df.loc[:,item]\n",
    "        ser2 = svd_df.loc[:,other_item]\n",
    "        # print(ser1, ser2)\n",
    "        ss = simFunc(ser1, ser2)\n",
    "        # print(ss, user_score_other_item)\n",
    "        sim_total += ss\n",
    "        user_sim_total += user_score_other_item * ss\n",
    "\n",
    "        \n",
    "    if sim_total == 0:\n",
    "        return 0\n",
    "    \n",
    "    else:\n",
    "        return user_sim_total / sim_total"
   ]
  },
  {
   "cell_type": "markdown",
   "metadata": {
    "deletable": false,
    "editable": false,
    "nbgrader": {
     "grade": false,
     "locked": true,
     "solution": false
    }
   },
   "source": [
    "The commands below predict  the scores for products not yet reviewed by R0, using function built above: scorePred.\n",
    "We use the cosine similarity because if a product has only one value of review (e.g. all 5s), then the standard deviation is 0 and the correlation coefficient is not calculable."
   ]
  },
  {
   "cell_type": "code",
   "execution_count": null,
   "metadata": {
    "deletable": false,
    "editable": false,
    "nbgrader": {
     "grade": false,
     "locked": true,
     "solution": false
    }
   },
   "outputs": [],
   "source": [
    "%%time\n",
    "\n",
    "SVDpreds = {}\n",
    "for item in r0_not_rev:\n",
    "    SVDpreds[item] = scorePredSVD(reshaped_reviews, 'R0', item, svd_df, simFunc = c_sim, rev_items = r0_rev_prods)"
   ]
  },
  {
   "cell_type": "code",
   "execution_count": null,
   "metadata": {
    "deletable": false,
    "editable": false,
    "nbgrader": {
     "grade": false,
     "locked": true,
     "solution": false
    }
   },
   "outputs": [],
   "source": [
    "pd.Series(SVDpreds).sort_values(ascending = False).head()"
   ]
  },
  {
   "cell_type": "markdown",
   "metadata": {
    "deletable": false,
    "editable": false,
    "nbgrader": {
     "grade": false,
     "locked": true,
     "solution": false
    }
   },
   "source": [
    "<a id=\"q09\"></a>\n",
    "[Return to top](#questions)\n",
    "### Question 09\n",
    "\n",
    "SVD is a kind of:\n",
    "- a) Variance reduction.\n",
    "- b) Special type of array in Python.\n",
    "- c) Dimensionality reduction.\n",
    "- d) Description of central tendency.\n",
    "\n",
    "Assign the character associated with your choice as a string to the variable ans1."
   ]
  },
  {
   "cell_type": "code",
   "execution_count": 152,
   "metadata": {},
   "outputs": [],
   "source": [
    "### GRADED\n",
    "# SVD is a kind of:\n",
    "# a) Variance reduction.\n",
    "# b) Special type of array in Python.\n",
    "# c) Dimensionality reduction.\n",
    "# d) Description of central tendency.\n",
    "\n",
    "#Assign the character associated with your choice as a string to the variable ans1.\n",
    "### YOUR SOLUTION HERE\n",
    "\n",
    "ans1 = 'c'\n",
    "###\n",
    "### YOUR CODE HERE\n",
    "###\n"
   ]
  },
  {
   "cell_type": "code",
   "execution_count": 153,
   "metadata": {
    "deletable": false,
    "editable": false,
    "nbgrader": {
     "grade": true,
     "grade_id": "Q-09",
     "locked": true,
     "points": "5",
     "solution": false
    }
   },
   "outputs": [],
   "source": [
    "###\n",
    "### AUTOGRADER TEST - DO NOT REMOVE\n",
    "###\n"
   ]
  },
  {
   "cell_type": "markdown",
   "metadata": {
    "deletable": false,
    "editable": false,
    "nbgrader": {
     "grade": false,
     "locked": true,
     "solution": false
    }
   },
   "source": [
    "<a id = \"surprise\"></a>\n",
    "### Surprise - Python Package\n",
    "[`Surprise`](http://surpriselib.com) is a Python package which implements a number of tools for building and testing recommender systems. The documentation can be found [here](https://surprise.readthedocs.io/en/stable/).\n",
    "\n",
    "**THE FOLLOWING CODE WILL NOT RUN ON VOCAREUM. WE JUST PROVIDE EXAMPLES IN CASE YOU CHOOSE TO USE `SURPRISE` IN YOUR OWN ENVIRONMENT**  \n",
    "\n",
    "\n",
    "To install surprise, run:  \n",
    "\n",
    "`conda install -c conda-forge scikit-surprise`  \n",
    "\n",
    "in the Anaconda Prompt. After the installation, you might have to reinstall or update scipy, and restart Kernel by doing\n",
    "\n",
    "`conda install -c anaconda scipy`  "
   ]
  },
  {
   "cell_type": "markdown",
   "metadata": {
    "deletable": false,
    "editable": false,
    "nbgrader": {
     "grade": false,
     "locked": true,
     "solution": false
    }
   },
   "source": [
    "Below is [example code from the surprise documentation](https://surprise.readthedocs.io/en/stable/getting_started.html#)"
   ]
  },
  {
   "cell_type": "code",
   "execution_count": null,
   "metadata": {
    "collapsed": true,
    "deletable": false,
    "editable": false,
    "nbgrader": {
     "grade": false,
     "locked": true,
     "solution": false
    }
   },
   "outputs": [],
   "source": [
    "# from surprise import SVD\n",
    "# from surprise import Dataset\n",
    "# from surprise.model_selection import cross_validate\n",
    "\n",
    "\n",
    "# # Load the movielens-100k dataset (download it if needed),\n",
    "# data = Dataset.load_builtin('ml-100k')\n",
    "\n",
    "# # We'll use the famous SVD algorithm.\n",
    "# algo = SVD()\n",
    "\n",
    "# # Run 5-fold cross-validation and print results\n",
    "# cross_validate(algo, data, measures=['RMSE', 'MAE'], cv=5, verbose=True)"
   ]
  },
  {
   "cell_type": "markdown",
   "metadata": {
    "deletable": false,
    "editable": false,
    "nbgrader": {
     "grade": false,
     "locked": true,
     "solution": false
    }
   },
   "source": [
    "[Loading in a df](https://surprise.readthedocs.io/en/stable/dataset.html?highlight=pandas#surprise.dataset.Dataset.load_from_df)"
   ]
  },
  {
   "cell_type": "code",
   "execution_count": null,
   "metadata": {
    "collapsed": true,
    "deletable": false,
    "editable": false,
    "nbgrader": {
     "grade": false,
     "locked": true,
     "solution": false
    }
   },
   "outputs": [],
   "source": [
    "# import os\n",
    "# from surprise import BaselineOnly\n",
    "# from surprise import Reader\n",
    "\n",
    "# # when using a df to load in data, the columns must be:\n",
    "# # user, product, rating, in that order\n",
    "# # a reader must be defined to describe the rating_scale\n",
    "# reader = Reader(rating_scale=(0,5))\n",
    "\n",
    "# data = Dataset.load_from_df(rev_df, reader=reader)\n",
    "\n",
    "# # We can now use this dataset as we please, e.g. calling cross_validate\n",
    "# cross_validate(BaselineOnly(), data, verbose=True)"
   ]
  },
  {
   "cell_type": "markdown",
   "metadata": {
    "deletable": false,
    "editable": false,
    "nbgrader": {
     "grade": false,
     "locked": true,
     "solution": false
    }
   },
   "source": [
    "### One final note: \n",
    "\n",
    "This project has based its recommendations of comparing the similarity of different *items*.  Using the same technique, it is also possible to calculate the similarity of *users*. The reason why *items* is usually the default choice is that there are usually fewer items than users. This decreases the number of similarity calculations required. \n",
    "\n",
    "For example, in our data, we had roughly 3.5k items and 5.5k users. When using a complete dataset from a specific source, this difference will be more significant."
   ]
  }
 ],
 "metadata": {
  "jupytext": {
   "formats": "ipynb,md"
  },
  "kernelspec": {
   "display_name": "Python 3",
   "language": "python",
   "name": "python3"
  },
  "language_info": {
   "codemirror_mode": {
    "name": "ipython",
    "version": 3
   },
   "file_extension": ".py",
   "mimetype": "text/x-python",
   "name": "python",
   "nbconvert_exporter": "python",
   "pygments_lexer": "ipython3",
   "version": "3.7.3"
  }
 },
 "nbformat": 4,
 "nbformat_minor": 2
}
