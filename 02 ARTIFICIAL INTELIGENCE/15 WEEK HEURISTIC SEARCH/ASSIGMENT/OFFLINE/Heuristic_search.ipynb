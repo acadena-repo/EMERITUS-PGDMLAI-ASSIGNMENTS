{
 "cells": [
  {
   "cell_type": "markdown",
   "metadata": {},
   "source": [
    "# Heuristic  and Greedy Search Algorithms\n",
    "\n",
    "**_Author: Jessica Cervi_**\n",
    "\n",
    "**Expected time = 2 hours**\n",
    "\n",
    "**Total points = 80 points**\n",
    "\n",
    "    \n",
    "## Assignment Overview\n",
    "\n",
    "In this assignment, we will look at some types of search algorithms. In the first part of the assignment, we will focus on a very popular uniform seach algorithm, the A-star (A*) algorithm. After reiterating the foundations and the theory behind this algorithm, we will solve a simple problem using the `Python` library `pathfinding`. Next, you will be asked to solve a problem using the A* algorithm by hand. We will work on the A* algorithm using the library `networkx`.\n",
    "\n",
    "The second part of the assignment focuses on another type of algorithm, the Greedy Search algorithm. After re-iterating the basics of this algorithm, you will be asked to solve a simple problem from scratch. The second part of the assignment focuses on another type of algorithm, the Greedy Search algorithm. After reiterating the basics of this algorithm, you will be asked to solve a simple problem from scratch.\n",
    "\n",
    "\n",
    "This assignment is designed to build your familiarity and comfort coding in Python while also helping you review key topics from each module. As you progress through the assignment, answers will get increasingly complex. It is important that you adopt a data scientist's mindset when completing this assignment. **Remember to run your code from each cell before submitting your assignment.** Running your code beforehand will notify you of errors and give you a chance to fix your errors before submitting. You should view your Vocareum submission as if you are delivering a final project to your manager or client. \n",
    "\n",
    "***Vocareum Tips***\n",
    "- Do not add arguments or options to functions unless you are specifically asked to. This will cause an error in Vocareum.\n",
    "- Do not use a library unless you are explicitly asked to in the question. \n",
    "- You can download the Grading Report after submitting the assignment. This will include feedback and hints on incorrect questions. \n",
    "\n",
    "\n",
    "### Learning Objectives\n",
    "\n",
    "- Use search algorithms such as A* search and A* optimality\n",
    "- Learn how to implement the A* algorithm using the `pathfinding` and `networkx` library\n",
    "- Compute the shortest path using the A* algorithm by hand\n",
    "- Learn the basics of greedy algorithms and implement various problems in Python"
   ]
  },
  {
   "cell_type": "markdown",
   "metadata": {},
   "source": [
    "\n",
    "## Index: \n",
    "\n",
    "####  Heuristic  and Greedy Search Algorithms\n",
    "- [Question 1](#q01)\n",
    "- [Question 2](#q02)\n",
    "- [Question 3](#q03)\n",
    "- [Question 4](#q04)\n",
    "- [Question 5](#q05)\n",
    "- [Question 6](#q06)\n",
    "- [Question 7](#q07)\n",
    "- [Question 8](#q08)\n",
    "- [Question 9](#q09)"
   ]
  },
  {
   "cell_type": "markdown",
   "metadata": {},
   "source": [
    "## Heuristic  and Greedy Search Algorithms\n",
    "\n",
    "\n",
    "### Informed Search Algorithms\n",
    "\n",
    "Informed search algorithms have information on the goal state, which helps in more efficient searching. This information is obtained by something called a **heuristic**.\n",
    "\n",
    "In an informed search, a heuristic is a function that estimates how close a state is to the goal state. Some examples are Manhattan distance, Euclidean distance, etc.\n",
    "Of course, different heuristics are used in different informed algorithms.\n",
    "\n",
    "**A-star** (also referred to as A*) is one of the most successful search algorithms to find the shortest path between nodes or graphs. It is an informed search algorithm, as it uses information about path cost and also uses heuristics to find the solution.\n",
    "\n",
    "In the first part of this assignment, we will focus on learning  how to implement an A* algorithm using the library [`pathfinder`](https://pypi.org/project/pathfinder/). In the second part of the assignment, we will focus on how to build A* search algorithm from scratch using a simple Python code. Finally, we will conclude the section about Informed Search Algorithms by utilizing the library `networkx` and its implemetation of the A* algorithm."
   ]
  },
  {
   "cell_type": "markdown",
   "metadata": {},
   "source": [
    "###### The theory behind the A* algorithm\n",
    "\n",
    "A* achieve **optimality** and **completeness**, two valuable properties of search algorithms.\n",
    "\n",
    "When a search algorithm has the property of optimality, it means it is guaranteed to find the best possible solution. When a search algorithm has the property of completeness, it means that if a solution to a given problem exists, the algorithm is guaranteed to find it.\n",
    "\n",
    "Now to understand how A* works, first we need to understand a few terminologies:\n",
    "\n",
    "- **Node** (also called State) — All potential positions or stops with a unique identification\n",
    "- **Transition** — The act of moving between states or nodes\n",
    "- **Starting Node** — Where to start searching\n",
    "- **Goal Node** — The target to stop searching\n",
    "- **Search Space** — A collection of nodes, like all board positions of a board game\n",
    "- **Cost** — Numerical value (say distance, time, or financial expense) for the path from a node to another node\n",
    "- **g(n)** — The exact cost of the path from the starting node to any node n\n",
    "- **h(n)** — The heuristic estimated cost from node n to the goal node\n",
    "- **f(n)** — Lowest cost in the neighboring node n\n",
    "\n",
    "Each time A* enters a node, it calculates the cost, f(n)(n being the neighboring node), to travel to all of the neighboring nodes, and then enters the node with the lowest value of f(n).\n",
    "We calculate these values using the following formula:\n",
    "\n",
    "$$f(n) = g(n) + h(n)$$\n",
    "\n",
    "We begin by importing the necesserary modules and function from the library `pathfinding`:"
   ]
  },
  {
   "cell_type": "code",
   "execution_count": 1,
   "metadata": {},
   "outputs": [],
   "source": [
    "from pathfinding.core.diagonal_movement import DiagonalMovement\n",
    "from pathfinding.core.grid import Grid\n",
    "from pathfinding.finder.a_star import AStarFinder"
   ]
  },
  {
   "cell_type": "code",
   "execution_count": 45,
   "metadata": {},
   "outputs": [
    {
     "name": "stdout",
     "output_type": "stream",
     "text": [
      "Help on class AStarFinder in module pathfinding.finder.a_star:\n",
      "\n",
      "class AStarFinder(pathfinding.finder.finder.Finder)\n",
      " |  AStarFinder(heuristic=None, weight=1, diagonal_movement=2, time_limit=inf, max_runs=inf)\n",
      " |  \n",
      " |  Method resolution order:\n",
      " |      AStarFinder\n",
      " |      pathfinding.finder.finder.Finder\n",
      " |      builtins.object\n",
      " |  \n",
      " |  Methods defined here:\n",
      " |  \n",
      " |  __init__(self, heuristic=None, weight=1, diagonal_movement=2, time_limit=inf, max_runs=inf)\n",
      " |      find shortest path using A* algorithm\n",
      " |      :param heuristic: heuristic used to calculate distance of 2 points\n",
      " |          (defaults to manhatten)\n",
      " |      :param weight: weight for the edges\n",
      " |      :param diagonal_movement: if diagonal movement is allowed\n",
      " |          (see enum in diagonal_movement)\n",
      " |      :param time_limit: max. runtime in seconds\n",
      " |      :param max_runs: max. amount of tries until we abort the search\n",
      " |          (optional, only if we enter huge grids and have time constrains)\n",
      " |          <=0 means there are no constrains and the code might run on any\n",
      " |          large map.\n",
      " |  \n",
      " |  check_neighbors(self, start, end, grid, open_list, open_value=True, backtrace_by=None)\n",
      " |      find next path segment based on given node\n",
      " |      (or return path if we found the end)\n",
      " |  \n",
      " |  find_path(self, start, end, grid)\n",
      " |      find a path from start to end node on grid using the A* algorithm\n",
      " |      :param start: start node\n",
      " |      :param end: end node\n",
      " |      :param grid: grid that stores all possible steps/tiles as 2D-list\n",
      " |      :return:\n",
      " |  \n",
      " |  ----------------------------------------------------------------------\n",
      " |  Methods inherited from pathfinding.finder.finder.Finder:\n",
      " |  \n",
      " |  apply_heuristic(self, node_a, node_b, heuristic=None)\n",
      " |      helper function to apply heuristic\n",
      " |  \n",
      " |  calc_cost(self, node_a, node_b)\n",
      " |      get the distance between current node and the neighbor (cost)\n",
      " |  \n",
      " |  find_neighbors(self, grid, node, diagonal_movement=None)\n",
      " |      find neighbor, same for Djikstra, A*, Bi-A*, IDA*\n",
      " |  \n",
      " |  keep_running(self)\n",
      " |      check, if we run into time or iteration constrains.\n",
      " |      :returns: True if we keep running and False if we run into a constraint\n",
      " |  \n",
      " |  process_node(self, node, parent, end, open_list, open_value=True)\n",
      " |      we check if the given node is path of the path by calculating its\n",
      " |      cost and add or remove it from our path\n",
      " |      :param node: the node we like to test\n",
      " |          (the neighbor in A* or jump-node in JumpPointSearch)\n",
      " |      :param parent: the parent node (the current node we like to test)\n",
      " |      :param end: the end point to calculate the cost of the path\n",
      " |      :param open_list: the list that keeps track of our current path\n",
      " |      :param open_value: needed if we like to set the open list to something\n",
      " |          else than True (used for bi-directional algorithms)\n",
      " |  \n",
      " |  ----------------------------------------------------------------------\n",
      " |  Data descriptors inherited from pathfinding.finder.finder.Finder:\n",
      " |  \n",
      " |  __dict__\n",
      " |      dictionary for instance variables (if defined)\n",
      " |  \n",
      " |  __weakref__\n",
      " |      list of weak references to the object (if defined)\n",
      "\n"
     ]
    }
   ],
   "source": [
    "help(AStarFinder)"
   ]
  },
  {
   "cell_type": "markdown",
   "metadata": {},
   "source": [
    "The first thing we need to define is the *maze* we want to work on.\n",
    "\n",
    "In the simplest case, this can be defined in Python using a list of lists.\n",
    "\n",
    "For example, assume that we wanted to find the shortest path from one point to another in this maze:\n",
    "\n",
    "$$\\begin{pmatrix}\n",
    "1 &1\\\\\n",
    "1 &0 \n",
    "    \\end{pmatrix}$$\n",
    "then we would need to define our maze in Python in the following way:\n"
   ]
  },
  {
   "cell_type": "code",
   "execution_count": null,
   "metadata": {
    "collapsed": true
   },
   "outputs": [],
   "source": [
    "my_maze = [[1,1], [1,0]]"
   ]
  },
  {
   "cell_type": "markdown",
   "metadata": {},
   "source": [
    "#### Entries meaning\n",
    "\n",
    "Any value smaller or equal to 0 describes an **obstacle**. Any number bigger than 0 describes the weight of a field that can be walked on. The bigger the number the higher the cost to walk that field.\n",
    "\n",
    "In the next questions, we want the algorithm to create a path from the upper left to the bottom right. \n",
    "\n",
    "To make it not too easy for the algorithm, we added an obstacle in the middle, so that it cannot use the direct way. We ignore the weight for now, and all fields will have the same cost of 1."
   ]
  },
  {
   "cell_type": "markdown",
   "metadata": {},
   "source": [
    "[Back to top](#Index:) \n",
    "<a id='q01'></a>\n",
    "\n",
    "\n",
    "### Question 1:\n",
    "\n",
    "*5 points*\n",
    "    \n",
    "$$\\begin{pmatrix}\n",
    "1 &1& 1\\\\\n",
    "1 &0& 1 \\\\\n",
    "1 &1& 1\\\\\n",
    "    \\end{pmatrix}$$\n",
    "\n",
    "From the image above, construct a list of lists with the entries of the matrix above. Assign the result to `ans_1`.\n"
   ]
  },
  {
   "cell_type": "code",
   "execution_count": 80,
   "metadata": {},
   "outputs": [],
   "source": [
    "### GRADED\n",
    "\n",
    "### YOUR SOLUTION HERE\n",
    "Maze_1 = [[1,1,1],\n",
    "          [1,0,1],\n",
    "          [1,1,1]]\n",
    "ans_1 = Maze_1\n",
    "\n",
    "###\n",
    "### YOUR CODE HERE\n",
    "###\n"
   ]
  },
  {
   "cell_type": "code",
   "execution_count": 81,
   "metadata": {
    "deletable": false,
    "editable": false,
    "nbgrader": {
     "grade": true,
     "grade_id": "Question 01",
     "locked": true,
     "points": "5",
     "solution": false
    }
   },
   "outputs": [],
   "source": [
    "###\n",
    "### AUTOGRADER TEST - DO NOT REMOVE\n",
    "###\n"
   ]
  },
  {
   "cell_type": "code",
   "execution_count": 82,
   "metadata": {},
   "outputs": [
    {
     "name": "stdout",
     "output_type": "stream",
     "text": [
      "[[1, 1, 1], [1, 0, 1], [1, 1, 1]] ////// [[1, 1, 1], [1, 0, 1], [1, 1, 1]]\n"
     ]
    }
   ],
   "source": [
    "print(Maze_1,\"//////\",ans_1)"
   ]
  },
  {
   "cell_type": "markdown",
   "metadata": {},
   "source": [
    "Next, we need to create a new grid from this map representation using the function `grid()` from `pathfinding` and by massing the name of our map to it. This will create node instances for every element of our map, and it will also set the size of the map. For now, we assume that your map is a square, so the size height is defined by the length of the outer list and the width by the length of the first list inside it."
   ]
  },
  {
   "cell_type": "code",
   "execution_count": 83,
   "metadata": {},
   "outputs": [],
   "source": [
    "grid = Grid(matrix=ans_1)"
   ]
  },
  {
   "cell_type": "markdown",
   "metadata": {},
   "source": [
    "Next, we need to define the start and end points of our path.\n",
    "\n",
    "In `Python`, the entries on a regular grid are numbered using a $(x,y)$-type numbering, where $x$ denotes the row number and $y$ denotes the columns.\n",
    "\n",
    "Note that both $x$ and $y$ start at 0 and they follow a top-to-bottom and left-to-right order, respectively.\n",
    "\n",
    "For example, if you wanted to define a point with coordinate (1,2) as a starting point, you would write:"
   ]
  },
  {
   "cell_type": "code",
   "execution_count": 84,
   "metadata": {},
   "outputs": [],
   "source": [
    "my_start = grid.node(1,2)"
   ]
  },
  {
   "cell_type": "markdown",
   "metadata": {},
   "source": [
    "[Back to top](#Index:) \n",
    "<a id='q02'></a>\n",
    "\n",
    "\n",
    "### Question 2:\n",
    "\n",
    "*5 points*\n",
    "    \n",
    "    \n",
    "Our goal is to find the shortest path from the top-left corner to endpoint (bottom-right) from the map.\n",
    "    \n",
    "Define the start point as `start` and the end point as `end`."
   ]
  },
  {
   "cell_type": "code",
   "execution_count": 85,
   "metadata": {},
   "outputs": [],
   "source": [
    "### GRADED\n",
    "\n",
    "### YOUR SOLUTION HERE\n",
    "start = grid.node(0,0)\n",
    "end = grid.node(2,2)\n",
    "\n",
    "###\n",
    "### YOUR CODE HERE\n",
    "###\n"
   ]
  },
  {
   "cell_type": "code",
   "execution_count": 86,
   "metadata": {
    "deletable": false,
    "editable": false,
    "nbgrader": {
     "grade": true,
     "grade_id": "Question 02",
     "locked": true,
     "points": "5",
     "solution": false
    }
   },
   "outputs": [],
   "source": [
    "###\n",
    "### AUTOGRADER TEST - DO NOT REMOVE\n",
    "###\n"
   ]
  },
  {
   "cell_type": "markdown",
   "metadata": {},
   "source": [
    "Next, we need to create a new instance of our finder and let it do its work. \n",
    "\n",
    "This can done by invoking the function [`AStarFinder`](https://pub.dev/documentation/pathfinding/latest/pathfinding.finders.astar/AStarFinder-class.html).\n",
    "\n",
    "Notice that by default this instance does not allow for diagonal movement in our search (only left, right, top, and bottom).\n",
    "\n",
    "In the code cell below, we create a new instance for your path finder and assign it to the variable `finder`. Notice that we make sure to allow for diagonal movement and search by setting the argument `diagonal_movement` equal to `DiagonalMovement.always`"
   ]
  },
  {
   "cell_type": "code",
   "execution_count": 87,
   "metadata": {},
   "outputs": [],
   "source": [
    "finder = AStarFinder(diagonal_movement=DiagonalMovement.always)\n"
   ]
  },
  {
   "cell_type": "markdown",
   "metadata": {},
   "source": [
    "Finally, we can run our seach algorithm using the `find_path()` function on our instance. This function takes as arguments, the start and end point of our path as well as the grid we are searching *in this order*.\n",
    "\n",
    "The `find_path()` function does not only return you the path from the start to the end point it also returns the number of times the algorithm needed to be called until a way was found."
   ]
  },
  {
   "cell_type": "markdown",
   "metadata": {},
   "source": [
    "Below, we find the shortest path, as well as the number of runs for our search."
   ]
  },
  {
   "cell_type": "code",
   "execution_count": 88,
   "metadata": {},
   "outputs": [],
   "source": [
    "path, runs = finder.find_path(start, end, grid)"
   ]
  },
  {
   "cell_type": "markdown",
   "metadata": {},
   "source": [
    "Now we can print the result (or do something else with it). Note that the start and end points are part of the path.\n",
    "\n",
    "Run the code cell below to visualize the results."
   ]
  },
  {
   "cell_type": "code",
   "execution_count": 89,
   "metadata": {},
   "outputs": [
    {
     "name": "stdout",
     "output_type": "stream",
     "text": [
      "operations: 5 path length: 4\n",
      "+---+\n",
      "|sx |\n",
      "| #x|\n",
      "|  e|\n",
      "+---+\n"
     ]
    }
   ],
   "source": [
    "print('operations:', runs, 'path length:', len(path))\n",
    "print(grid.grid_str(path=path, start=start, end=end))"
   ]
  },
  {
   "cell_type": "markdown",
   "metadata": {},
   "source": [
    "You can ignore the +, - and | characters, they just show the border around your map, the blank space is a free field, 's' marks the start, 'e' the end and '#' our obstacle in the middle. You see the path from start to end marked by 'x' characters. We allow horizontal movement, so it is not using the upper-right corner.\n",
    "\n"
   ]
  },
  {
   "cell_type": "markdown",
   "metadata": {},
   "source": [
    "[Back to top](#Index:) \n",
    "<a id='q03'></a>\n",
    "\n",
    "\n",
    "### Question 3:\n",
    "\n",
    "*5 points*\n",
    "    \n",
    "You can access `print(path)` to get the specific list of coordinates.\n",
    "What are the coordinates of the second point in our path? Assign your answer as a tuple to `ans3`."
   ]
  },
  {
   "cell_type": "code",
   "execution_count": 90,
   "metadata": {},
   "outputs": [
    {
     "name": "stdout",
     "output_type": "stream",
     "text": [
      "[(0, 0), (1, 0), (2, 1), (2, 2)]\n"
     ]
    }
   ],
   "source": [
    "##NOTA: LA RUTA NO ESPECIFICA COORDENADAS, SI NO EL COSTO O No. DE 'PASOS' SOBRE UNA DIRECCION O EJE.\n",
    "##(1,0): 1 PASO EN LA DIRECCION X, 0 PASO EN LA DIRECCION Y. EL COSTO SE ACUMULA A LO LARGO DE LA RUTA.\n",
    "print(path)"
   ]
  },
  {
   "cell_type": "code",
   "execution_count": 91,
   "metadata": {},
   "outputs": [],
   "source": [
    "### GRADED\n",
    "\n",
    "### YOUR SOLUTION HERE\n",
    "ans3 = (1,0)\n",
    "\n",
    "###\n",
    "### YOUR CODE HERE\n",
    "###\n"
   ]
  },
  {
   "cell_type": "code",
   "execution_count": 92,
   "metadata": {
    "deletable": false,
    "editable": false,
    "nbgrader": {
     "grade": true,
     "grade_id": "Question 03",
     "locked": true,
     "points": "5",
     "solution": false
    }
   },
   "outputs": [],
   "source": [
    "###\n",
    "### AUTOGRADER TEST - DO NOT REMOVE\n",
    "###\n"
   ]
  },
  {
   "cell_type": "markdown",
   "metadata": {},
   "source": [
    "### Computing the shortest path using the A* by hand\n",
    "\n",
    "Before implementing the A* algorithm from scratch, let's make sure we covered all the basics with an exercise where we ask you to find the path from point S to point G on the graph below.\n",
    "\n",
    "<img src = 'assets/graph.png'>\n",
    "\n",
    "Remember that an A* search is optimal only when for all nodes, the forward cost for a node h(x) underestimates the actual cost h*(x) to reach the goal. "
   ]
  },
  {
   "cell_type": "raw",
   "metadata": {},
   "source": [
    "##A* BY HAND EXAMPLE:\n",
    "NODE      h(n)      g(n)      f(n)\n",
    " S         7         0(start)  7\n",
    " D         5         2         7\n",
    " B         4         1         5\n",
    " E         3         1         4 > SELECCIONADO POR MENOR COSTO!!\n",
    " G         0         3         3\n",
    " ----------------------------------\n",
    "                     7 > PATH COST\n",
    "                              \n",
    "path = ['s','d','b','e','g']"
   ]
  },
  {
   "cell_type": "markdown",
   "metadata": {},
   "source": [
    "This property of A* heuristic is called admissibility.\n",
    "A strategy to reach this goal is to choose the node with lowest f(x) value.\n"
   ]
  },
  {
   "cell_type": "code",
   "execution_count": 100,
   "metadata": {},
   "outputs": [],
   "source": [
    "finder_ = AStarFinder(diagonal_movement=DiagonalMovement.always)"
   ]
  },
  {
   "cell_type": "markdown",
   "metadata": {},
   "source": [
    "For example, given the graph above the first two steps of our search can be performed in the following way:\n",
    "    \n",
    "|Step #| Path | H(x) | G(x) | F(x)|\n",
    "|---| --- | --- | --- | ---|\n",
    "|1 | S | 7 | 0 | 7|\n",
    "|2|S-> A | 9|3|12|\n",
    "|2|S->D|5|2|7|\n",
    "\n",
    "In the second step, we see that moving from S to D is less costly than moving from S to A, therefore we choose that path."
   ]
  },
  {
   "cell_type": "markdown",
   "metadata": {},
   "source": [
    "[Back to top](#Index:) \n",
    "<a id='q04'></a>\n",
    "\n",
    "\n",
    "### Question 4:\n",
    "\n",
    "*10 points*\n",
    "    \n",
    "Complete the exercise above until you reach point G.\n",
    "    \n",
    "What is the optimal path? Assign your answer to `ans_6a` as a list containing the letters (in lowercase) in the path.\n",
    "\n",
    "What is the cost of the path? Assign your answer as an integer to `ans_6b`."
   ]
  },
  {
   "cell_type": "code",
   "execution_count": 101,
   "metadata": {},
   "outputs": [],
   "source": [
    "### GRADED\n",
    "\n",
    "### YOUR SOLUTION HERE\n",
    "ans_6a = ['s','d','b','e','g']\n",
    "ans_6b = 7\n",
    "\n",
    "\n",
    "###\n",
    "### YOUR CODE HERE\n",
    "###\n"
   ]
  },
  {
   "cell_type": "code",
   "execution_count": 102,
   "metadata": {
    "deletable": false,
    "editable": false,
    "nbgrader": {
     "grade": true,
     "grade_id": "Question 04",
     "locked": true,
     "points": "10",
     "solution": false
    }
   },
   "outputs": [],
   "source": [
    "###\n",
    "### AUTOGRADER TEST - DO NOT REMOVE\n",
    "###\n"
   ]
  },
  {
   "cell_type": "markdown",
   "metadata": {},
   "source": [
    "---\n",
    "## Heuristic search with A* and the `networkx` library\n",
    "\n",
    "`NetworkX` is a Python language software package for the creation, manipulation, and study of the structure, dynamics, and functions of complex networks.\n",
    "\n",
    "The animated gif below demonstrates the efficiency when we have a heuristic function in place.  In essence, this helps us to keep our focus on the goal state of the traversal and can trim the amount of routes considered.\n",
    "\n",
    "<center>\n",
    "    <img src = 'assets/Astar_progress_animation.gif'/>\n",
    "</center>\n"
   ]
  },
  {
   "cell_type": "markdown",
   "metadata": {},
   "source": [
    "Examples of heuristic functions are *Euclidean distance* or *Manhattan distance* (defined later).  For instance, in our Romania map example from the lectures, we could use the straight-line geographic distance between points as the heuristic function.\n",
    "\n",
    "We will move to implementing these algorithms in this section using the `networkx` library.  For us to implement the `a_star` above, this would involve additional information about the orientation of points in our simple graph or the introduction of a coordinate system to allow easy use of the metric.\n"
   ]
  },
  {
   "cell_type": "markdown",
   "metadata": {},
   "source": [
    "<img src = 'assets/romania_map.png'>"
   ]
  },
  {
   "cell_type": "markdown",
   "metadata": {},
   "source": [
    "In the code cell below, we have defined a dictonary of dictionaries that defines the map above.\n",
    "\n",
    "Next, we use the function `from_dict_of_dicts()` to transform our dictonary of dictionaries into a network."
   ]
  },
  {
   "cell_type": "code",
   "execution_count": 96,
   "metadata": {},
   "outputs": [],
   "source": [
    "romania_map = {'Arad': {'Sibiu': {'weight':140}, 'Timisoara': {'weight':118}, 'Zerind': {'weight':75}},\n",
    " 'Bucharest': {'Fagaras': {'weight':211}, 'Giurgiu': {'weight':90}, 'Pitesti': {'weight':101}, 'Urziceni': {'weight':85}},\n",
    " 'Craiova': {'Drobeta': {'weight':120}, 'Pitesti': {'weight':138}, 'Rimnicu': {'weight':146}},\n",
    " 'Drobeta': {'Mehadia': {'weight':75}},\n",
    " 'Eforie': {'Hirsova': {'weight':86}},\n",
    " 'Fagaras': {'Sibiu': {'weight':99}},\n",
    " 'Hirsova': {'Urziceni': {'weight':98}},\n",
    " 'Iasi': {'Neamt': {'weight':87}, 'Vaslui': {'weight':92}},\n",
    " 'Lugoj': {'Mehadia': {'weight':70}, 'Timisoara': {'weight':111}},\n",
    " 'Oradea': {'Sibiu': {'weight':151}, 'Zerind': {'weight':71}},\n",
    " 'Pitesti': {'Rimnicu': {'weight':97}},\n",
    " 'Rimnicu': {'Sibiu': {'weight':80}},\n",
    " 'Urziceni': {'Vaslui': {'weight':142}}}\n",
    "\n",
    "#importing the library\n",
    "import networkx as nx\n",
    "#suppress warnings\n",
    "import warnings\n",
    "warnings.filterwarnings('ignore')\n",
    "#reading the dictonary into a network object\n",
    "romania_graph = nx.from_dict_of_dicts(romania_map)"
   ]
  },
  {
   "cell_type": "markdown",
   "metadata": {},
   "source": [
    "[Back to top](#Index:) \n",
    "<a id='q05'></a>\n",
    "\n",
    "\n",
    "### Question 5:\n",
    "\n",
    "*5 points*\n",
    "\n",
    "We can use the `networkx` implementation of A* out of the box.\n",
    "+ Apply [`nx.astar.astar_path`](https://networkx.github.io/documentation/stable/reference/algorithms/generated/networkx.algorithms.shortest_paths.astar.astar_path.html) to find the shortest path from `Arad` to `Bucharest` in `romania_graph`. Assign the result to `ans_7_path`.\n",
    "+ Apply [`nx.astar.astar_path_length`](https://networkx.github.io/documentation/networkx-1.10/reference/generated/networkx.algorithms.shortest_paths.astar.astar_path_length.html) to find the *length* of the shortest path from `Arad` to `Bucharest` in `romania_graph`. Assign the result to `ans_7_length`."
   ]
  },
  {
   "cell_type": "code",
   "execution_count": 97,
   "metadata": {},
   "outputs": [
    {
     "name": "stdout",
     "output_type": "stream",
     "text": [
      "['Arad', 'Sibiu', 'Rimnicu', 'Pitesti', 'Bucharest']\n",
      "418\n"
     ]
    }
   ],
   "source": [
    "r_path = nx.astar_path(romania_graph,'Arad','Bucharest')\n",
    "print(r_path)\n",
    "r_len = nx.astar_path_length(romania_graph,'Arad','Bucharest')\n",
    "print(r_len)"
   ]
  },
  {
   "cell_type": "code",
   "execution_count": 98,
   "metadata": {},
   "outputs": [],
   "source": [
    "### GRADED\n",
    "\n",
    "### YOUR ANSWER HERE\n",
    "ans_7_path = nx.astar_path(romania_graph,'Arad','Bucharest')\n",
    "ans_7_length = nx.astar_path_length(romania_graph,'Arad','Bucharest')\n",
    "###\n",
    "### YOUR CODE HERE\n",
    "###\n"
   ]
  },
  {
   "cell_type": "code",
   "execution_count": 99,
   "metadata": {
    "deletable": false,
    "editable": false,
    "nbgrader": {
     "grade": true,
     "grade_id": "Question 05",
     "locked": true,
     "points": "5",
     "solution": false
    }
   },
   "outputs": [],
   "source": [
    "###\n",
    "### AUTOGRADER TEST - DO NOT REMOVE\n",
    "###\n"
   ]
  },
  {
   "cell_type": "markdown",
   "metadata": {},
   "source": [
    "Our Romania example could incorporate something like latitude and longitude coordinates into its representation and we could define a heuristic based on Pythagorean distances between these values.  Below, we demonstrate this with a simple example from the `networkx` documentation using a `grid_graph`, which positions nodes according to `(x,y)` tuples.  As such, we can define a distance function based on euclidean distance as shown below."
   ]
  },
  {
   "cell_type": "code",
   "execution_count": 36,
   "metadata": {},
   "outputs": [],
   "source": [
    "# Generate simple grid graph\n",
    "G = nx.grid_graph(dim=[3,4])"
   ]
  },
  {
   "cell_type": "code",
   "execution_count": 39,
   "metadata": {},
   "outputs": [
    {
     "data": {
      "image/png": "[encoded data removed]",
      "text/plain": [
       "<Figure size 432x288 with 1 Axes>"
      ]
     },
     "metadata": {},
     "output_type": "display_data"
    }
   ],
   "source": [
    "nx.draw(G, with_labels=True, node_color='orange', node_size=300, alpha = 0.8)"
   ]
  },
  {
   "cell_type": "code",
   "execution_count": 40,
   "metadata": {},
   "outputs": [
    {
     "name": "stdout",
     "output_type": "stream",
     "text": [
      "[(0, 0), (1, 0), (2, 0), (2, 1), (3, 1), (3, 2)]\n"
     ]
    }
   ],
   "source": [
    "#Euclidean distance\n",
    "def dist(a, b):\n",
    "    (x1, y1) = a # Unpacks coordinates from tuple\n",
    "    (x2, y2) = b # Unpacks coordinates from tuple\n",
    "    return ((x1 - x2) ** 2 + (y1 - y2) ** 2) ** 0.5\n",
    "print(nx.astar_path(G,(0,0),(3,2), dist))"
   ]
  },
  {
   "cell_type": "code",
   "execution_count": 43,
   "metadata": {},
   "outputs": [],
   "source": [
    "#help(nx.astar_path)"
   ]
  },
  {
   "cell_type": "markdown",
   "metadata": {},
   "source": [
    "[Back to top](#Index:) \n",
    "<a id='q06'></a>\n",
    "\n",
    "\n",
    "### Question 6:\n",
    "\n",
    "*5 points*\n",
    "\n",
    "Your task here is to complete the function `manhattan_dist` below to be compatible with `nx.astar_path`.\n",
    "+ You can use the function `dist` above as a template.\n",
    "+ The inputs will be two tuples of length 2 (as in `dist`) equal to `a` and `b`.\n",
    "+ In two dimensions, the [*Manhattan distance* ](https://en.wikipedia.org/wiki/Taxicab_geometry) can be defined as\n",
    "\n",
    "$$ \\mathtt{manhattan\\_dist}(a,b) = |a_1-b_1| + |a_2-b_2|$$\n",
    "\n",
    "+ Your function should return the Manhattan distance between `a` and `b`."
   ]
  },
  {
   "cell_type": "code",
   "execution_count": 46,
   "metadata": {},
   "outputs": [],
   "source": [
    "### GRADED\n",
    "\n",
    "### YOUR SOLUTION\n",
    "def manhattan_dist(a, b):\n",
    "    '''\n",
    "    This function takes in two tuples of the form (x,y)\n",
    "    and computes the manhattan distance between the two.\n",
    "    '''\n",
    "    xp,xj = a\n",
    "    yp,yj = b\n",
    "    return (abs(xp - yp))+(abs(xj - yj))\n",
    "###\n",
    "### YOUR CODE HERE\n",
    "###\n"
   ]
  },
  {
   "cell_type": "code",
   "execution_count": 47,
   "metadata": {
    "deletable": false,
    "editable": false,
    "nbgrader": {
     "grade": true,
     "grade_id": "Question 06",
     "locked": true,
     "points": "5",
     "solution": false
    }
   },
   "outputs": [],
   "source": [
    "###\n",
    "### AUTOGRADER TEST - DO NOT REMOVE\n",
    "###\n"
   ]
  },
  {
   "cell_type": "markdown",
   "metadata": {},
   "source": [
    "## Road network in Sioux Falls\n",
    "\n",
    "In our next example, we have a road network from Sioux Falls, Iowa. You can find more data on transportation networks [here](https://github.com/bstabler/TransportationNetworks). \n",
    "\n",
    "\n",
    "The code below was adapted from the networkx tutorial [here](http://avinashu.com/tutorial/pythontutorialnew/NetworkXBasics.html).  \n",
    "\n",
    "This is simply to demonstrate a path search algorithm using real data to determine a shortest path."
   ]
  },
  {
   "cell_type": "code",
   "execution_count": 48,
   "metadata": {},
   "outputs": [],
   "source": [
    "import warnings\n",
    "warnings.filterwarnings('ignore')\n",
    "# READ IN DATA ON NODES AND EDGES\n",
    "G3 = nx.DiGraph() # a *directed* graph\n",
    "with open(\"data/SiouxFalls_flow.txt\", \"r\") as f:\n",
    "    line = f.readline()\n",
    "    line = f.readline()\n",
    "    while len(line):\n",
    "        l = line.split()\n",
    "        fromnode = int(l[0])\n",
    "        to = int(l[1])\n",
    "        volume = float(l[2])\n",
    "        cost = int(float(l[3]))\n",
    "        G3.add_edge(fromnode, to, weight = cost)\n",
    "        line = f.readline()"
   ]
  },
  {
   "cell_type": "code",
   "execution_count": 49,
   "metadata": {},
   "outputs": [],
   "source": [
    "with open(\"data/SiouxFalls_node.txt\", \"r\") as f:\n",
    "    line = f.readline()\n",
    "    line = f.readline()\n",
    "    while len(line):\n",
    "        line = line.strip(';')\n",
    "        l = line.split()\n",
    "        node = int(l[0])\n",
    "        pos1 = float(l[1])/10000\n",
    "        pos2 = float(l[2])/10000\n",
    "        G3.add_node(node, pos=(pos1,pos2))\n",
    "        line = f.readline()"
   ]
  },
  {
   "cell_type": "code",
   "execution_count": 50,
   "metadata": {},
   "outputs": [
    {
     "data": {
      "image/png": "[encoded data removed]",
      "text/plain": [
       "<Figure size 576x864 with 1 Axes>"
      ]
     },
     "metadata": {
      "needs_background": "light"
     },
     "output_type": "display_data"
    }
   ],
   "source": [
    "#import matplotlib\n",
    "import matplotlib.pyplot as plt\n",
    "%matplotlib inline\n",
    "\n",
    "\n",
    "# CREATE PLOT OF NETWORK\n",
    "plt.figure(figsize=(8,12))\n",
    "# The positions of each node are stored in a dictionary\n",
    "node_pos=nx.get_node_attributes(G3,'pos')\n",
    "# The edge weights of each arcs are stored in a dictionary\n",
    "arc_weight=nx.get_edge_attributes(G3,'weight')\n",
    "# Determine the shortest path\n",
    "sp = nx.dijkstra_path(G3,source = 1, target = 20)\n",
    "# Create a list of arcs in the shortest path using the zip command and store it in red edges\n",
    "red_edges = list(zip(sp,sp[1:]))\n",
    "# Draw the nodes\n",
    "nx.draw_networkx(G3, node_pos, node_size=450)\n",
    "# Draw the node labels\n",
    "nx.draw_networkx_labels(G3, node_pos)\n",
    "# Draw the edges\n",
    "nx.draw_networkx_edges(G3, node_pos)\n",
    "# Draw the edge labels\n",
    "nx.draw_networkx_edge_labels(G3, node_pos, edge_labels=arc_weight)\n",
    "# Remove the axis\n",
    "plt.axis('off');"
   ]
  },
  {
   "cell_type": "markdown",
   "metadata": {},
   "source": [
    "[Back to top](#Index:) \n",
    "<a id='q07'></a>\n",
    "\n",
    "\n",
    "### Question 7:\n",
    "\n",
    "*5 points*\n",
    "\n",
    "Your task here is to apply A* to the graph `G3` describing the Sioux Falls transportation nextwork data. \n",
    "\n",
    "You will provide a heuristic function `sioux_dist` that you will be completing below.\n",
    "\n",
    "+ The function `sioux_dist` will accept two vertex labels `a` and `b` from the `Graph` object `G3` as input.\n",
    "+ Individual vertices can be indexed from `G3.nodes` with an appropriate label. For each vertex `a`, you can access a dict `G3.nodes[a]` with a single key `pos` whose value is a 2-tuple with the Cartesian coordinates of the node.\n",
    "+ Your function should return the distance computed will be the usual Euclidean distance between two points $a=(a_1,a_2)$ and $b=(b_1,b_2)$, i.e.,\n",
    "  $$ \\sqrt{\\left(a_1-b_1\\right)^2 + \\left(a_2-b_2\\right)^2} .$$"
   ]
  },
  {
   "cell_type": "code",
   "execution_count": 51,
   "metadata": {},
   "outputs": [],
   "source": [
    "import numpy as np"
   ]
  },
  {
   "cell_type": "code",
   "execution_count": 54,
   "metadata": {},
   "outputs": [
    {
     "data": {
      "text/plain": [
       "{'pos': (32.0, 19.0)}"
      ]
     },
     "execution_count": 54,
     "metadata": {},
     "output_type": "execute_result"
    }
   ],
   "source": [
    "G3.nodes[19]"
   ]
  },
  {
   "cell_type": "code",
   "execution_count": 56,
   "metadata": {},
   "outputs": [
    {
     "name": "stdout",
     "output_type": "stream",
     "text": [
      "Using sioux_dist, A* determines the path\n",
      "[3, 4, 5, 9, 10, 15, 19]\n",
      "from node 3 to node 19.\n"
     ]
    }
   ],
   "source": [
    "### GRADED\n",
    "\n",
    "### YOUR SOLUTION HERE\n",
    "def sioux_dist(a, b):\n",
    "    '''\n",
    "    Compute the euclidean distance between nodes a & b in graph G3\n",
    "    '''\n",
    "    xp,xj = G3.nodes[a]['pos']\n",
    "    yp,yj = G3.nodes[b]['pos']\n",
    "    return np.sqrt((xp - yp)**2 + (xj - yj)**2)\n",
    "###\n",
    "### YOUR CODE HERE\n",
    "###\n",
    "print('Using sioux_dist, A* determines the path\\n{}\\nfrom node 3 to node 19.'\n",
    "       .format(nx.astar_path(G3, 3, 19, sioux_dist)))"
   ]
  },
  {
   "cell_type": "code",
   "execution_count": 57,
   "metadata": {
    "deletable": false,
    "editable": false,
    "nbgrader": {
     "grade": true,
     "grade_id": "Question 07",
     "locked": true,
     "points": "5",
     "solution": false
    }
   },
   "outputs": [],
   "source": [
    "###\n",
    "### AUTOGRADER TEST - DO NOT REMOVE\n",
    "###\n"
   ]
  },
  {
   "cell_type": "markdown",
   "metadata": {},
   "source": [
    "## Greedy Search Algorithms\n",
    "\n",
    "Greedy algorithms aim to make the optimal choice at that given moment. At each step, it chooses the optimal choice without knowing the future. It attempts to find a globally optimal way to solve the entire problem using this method.\n",
    "\n",
    "We call algorithms greedy when they utilize the greedy property. The greedy property is:\n",
    "\n",
    "**At that exact moment in time, what is the optimal choice to make?**\n",
    "\n",
    " They do not look into the future to decide the global optimal solution. They are only concerned with the optimal solution locally. For this reason, greedy algorithms are fast. This means that the overall optimal solution may differ from the solution the algorithm chooses.\n"
   ]
  },
  {
   "cell_type": "markdown",
   "metadata": {},
   "source": [
    "### Greedy Algorithm to find minimum number of coins\n",
    "\n",
    "We are given a value V in US dollars. If we want to make a change for V, what is the minimum number of coins and/or notes needed to make the change?\n",
    "\n",
    "Assume that we have an infinite supply of each of the denominations of the American currency, i.e. we have an infinite supply of { 1, 2, 5, 10, 20, 50, 100} valued bills (no coins).\n",
    "\n",
    "\n",
    "**EXAMPLES**\n",
    "```Python\n",
    "\n",
    "Input: V = 70\n",
    "Output: 2\n",
    "We need a $50 bill and a $20 bill.\n",
    "\n",
    "Input: V = 121\n",
    "Output: 3\n",
    "We need a $100 bill, a $20 bill and a $1 bill. \n",
    "```"
   ]
  },
  {
   "cell_type": "markdown",
   "metadata": {},
   "source": [
    "To solve this problem, a common intuition would be to take coins with a greater value first. This can reduce the total number of coins needed. Starting from the largest possible denomination, we keep adding denominations while the remaining value is greater than 0.\n",
    "\n",
    "The pseudocode for the greedy algorithm follows the steps below:\n",
    "\n",
    "- 1) Sort the array of bills in decreasing order.\n",
    "- 2) Initialize the result as empty.\n",
    "- 3) Find the largest denomination that is smaller than the current amount.\n",
    "- 4) Add denomination found to the result and subtract the value of denomination found from the amount.\n",
    "- 5) If the amount becomes 0, then print the result.\n",
    "- 6) Else repeat the steps 3 and 4 for a new value of V."
   ]
  },
  {
   "cell_type": "markdown",
   "metadata": {},
   "source": [
    "[Back to top](#Index:) \n",
    "<a id='q08'></a>\n",
    "\n",
    "\n",
    "### Question 8:\n",
    "\n",
    "*20 points*\n",
    "    \n",
    "    \n",
    "Define a function, `make_change` that takes one argument `V` corresponding to the total amount of dollars you want to make change for.\n",
    "\n",
    "Your function should:\n",
    "\n",
    "- Define all denominations of the American currency in a list, `deno` as described above\n",
    "- Find the lenght of `deno` and assign it to a variable `n`\n",
    "- Initialize an empty list, `change`, that will contain the change given for the amount V\n",
    "- Using a `while` loop, traverse through all denominations, starting from the biggest one possible and appending the result inside the list `change`. Don't forget to substract the denominations progressively used from the amount V\n",
    "\n",
    "Your function should return the list `change`."
   ]
  },
  {
   "cell_type": "code",
   "execution_count": 58,
   "metadata": {},
   "outputs": [],
   "source": [
    "def make_change(value):\n",
    "    deno = [1,2,5,10,20,50,100]\n",
    "    change = []\n",
    "    \n",
    "    while value > 0:\n",
    "        bill = deno.pop()\n",
    "        while value >= bill:\n",
    "            change.append(bill)\n",
    "            value -= bill\n",
    "            \n",
    "    return change           \n",
    "    "
   ]
  },
  {
   "cell_type": "code",
   "execution_count": 64,
   "metadata": {},
   "outputs": [
    {
     "name": "stdout",
     "output_type": "stream",
     "text": [
      "Minimal number of change for 0 : \n"
     ]
    }
   ],
   "source": [
    "##TEST:\n",
    "V = 0\n",
    "print(\"Minimal number of change for\", V, \": \") \n",
    "change = make_change(V) \n",
    "# Print result \n",
    "for i in range(len(change)): \n",
    "        print(change[i])\n",
    "## {1 : 1 ; 2 : 1 ; 20: 2 ; 50: 1}"
   ]
  },
  {
   "cell_type": "code",
   "execution_count": 66,
   "metadata": {},
   "outputs": [
    {
     "name": "stdout",
     "output_type": "stream",
     "text": [
      "Minimal number of change for 93 : \n",
      "50\n",
      "20\n",
      "20\n",
      "2\n",
      "1\n"
     ]
    }
   ],
   "source": [
    "### GRADED\n",
    "\n",
    "### YOUR SOLUTION HERE\n",
    "  \n",
    "def make_change(V): \n",
    "    deno = [1,2,5,10,20,50,100]\n",
    "    change = []\n",
    "    \n",
    "    while V > 0:\n",
    "        bill = deno.pop()\n",
    "        while V >= bill:\n",
    "            change.append(bill)\n",
    "            V -= bill\n",
    "            \n",
    "    return change \n",
    "\n",
    "###\n",
    "### YOUR CODE HERE\n",
    "###\n",
    "\n",
    "#Testing your function\n",
    "V = 93\n",
    "print(\"Minimal number of change for\", V, \": \") \n",
    "change = make_change(V) \n",
    "# Print result \n",
    "for i in range(len(change)): \n",
    "        print(change[i]) "
   ]
  },
  {
   "cell_type": "code",
   "execution_count": 67,
   "metadata": {
    "deletable": false,
    "editable": false,
    "nbgrader": {
     "grade": true,
     "grade_id": "Question 08",
     "locked": true,
     "points": "20",
     "solution": false
    }
   },
   "outputs": [],
   "source": [
    "###\n",
    "### AUTOGRADER TEST - DO NOT REMOVE\n",
    "###\n"
   ]
  },
  {
   "cell_type": "markdown",
   "metadata": {},
   "source": [
    "### Greedy Algorithm for Egyptian Fraction\n",
    "\n",
    "\n",
    "Every positive fraction can be represented as a sum of unique unit fractions. A fraction is a unit fraction if the numerator is 1 and denominator is a positive integer, for example 1/3 is a unit fraction. Such a representation is called an Egyptian Fraction as it was used by ancient Egyptians.\n",
    "\n",
    "Some examples of decomposition into Egyptian fractions are:\n",
    "```\n",
    "Egyptian Fraction Representation of 2/3 is 1/2 + 1/6\n",
    "Egyptian Fraction Representation of 6/14 is 1/3 + 1/11 + 1/231\n",
    "\n",
    "```\n",
    "\n",
    "We can decompose any fraction into an Egyptian Fraction using the Greedy Algorithm. For a given number of the form `nr/dr` where `nr` is the numerator and `dr` is the denominator, and  `dr` > `nr`, first find the greatest possible unit fraction, then recur for the remaining part.  This can be done easily by computing the **ceiling** of a number.\n",
    "\n",
    "**The ceiling of a real number x, denoted by ⌈x⌉, is defined to be the smallest integer no smaller than x.**\n",
    "\n",
    "For example, consider the fraction 6/14: first find ceiling of 14/6, i.e., 3. So the first unit fraction becomes 1/3, then repeat the steps for (6/14 – 1/3) i.e., 4/42. The ceiling of 42/4 is 11 so the next unit fraction becomes 1/11. Finally, we compute the ceiling of (6/14-1/3-1/11) which is 231 so the last unit fraction is 1/231.\n",
    "\n",
    "[Back to top](#Index:) \n",
    "<a id='q09'></a>\n",
    "\n",
    "### Question 09:\n",
    "\n",
    "*20 points*\n",
    "    \n",
    "    \n",
    "Define a function, `unit_fraction` that takes two arguments `nr` and `dr` representing the numerator  and the denominator of our starting function. \n",
    "\n",
    "Your function should:\n",
    "\n",
    "- Define an empty list, `ef`, to store the fraction decomposition\n",
    "- Compute the decomposition of the fraction until the numerator becomes 0. You can use the function `ceil()` from the math library.\n",
    "- Add the unit fractions found to the list `ef` and update the new denominator and numerator\n",
    "\n",
    "Your function should return the list `ef`."
   ]
  },
  {
   "cell_type": "code",
   "execution_count": 68,
   "metadata": {},
   "outputs": [],
   "source": [
    "# import math package to use ceiling function \n",
    "import math "
   ]
  },
  {
   "cell_type": "code",
   "execution_count": 72,
   "metadata": {},
   "outputs": [],
   "source": [
    "def unit_fraction(num,den):\n",
    "    ef = []\n",
    "    while num:\n",
    "        b = math.ceil(den/num)\n",
    "        ef.append(b)\n",
    "        num = b*num - den\n",
    "        den = b*den\n",
    "        \n",
    "    return ef"
   ]
  },
  {
   "cell_type": "code",
   "execution_count": 76,
   "metadata": {},
   "outputs": [
    {
     "data": {
      "text/plain": [
       "[2, 6]"
      ]
     },
     "execution_count": 76,
     "metadata": {},
     "output_type": "execute_result"
    }
   ],
   "source": [
    "ef = unit_fraction(2,3)  \n",
    "ef"
   ]
  },
  {
   "cell_type": "code",
   "execution_count": 78,
   "metadata": {},
   "outputs": [
    {
     "name": "stdout",
     "output_type": "stream",
     "text": [
      " 1/3 +  1/11 +  1/231 "
     ]
    }
   ],
   "source": [
    "### GRADED\n",
    "\n",
    "### YOUR SOLUTION HERE\n",
    "  \n",
    "def unit_fraction(nr, dr): \n",
    "    ef = []\n",
    "    while nr:\n",
    "        b = math.ceil(dr/nr)\n",
    "        ef.append(b)\n",
    "        ##SUBTRACTION: nr/dr - 1/b > BY GREATEST COMMON FACTOR\n",
    "        nr = b*nr - dr\n",
    "        dr= b*dr\n",
    "        \n",
    "    return ef\n",
    "\n",
    "###\n",
    "### YOUR CODE HERE\n",
    "###\n",
    "  \n",
    "    \n",
    "# Testing your function\n",
    "ef = unit_fraction(6,14)       \n",
    "# printing the values \n",
    "for i in range(len(ef)): \n",
    "    if i != len(ef) - 1: \n",
    "        print(\" 1/{0} +\" .format(ef[i]), end = \" \") \n",
    "    else: \n",
    "        print(\" 1/{0}\" .format(ef[i]), end = \" \") \n"
   ]
  },
  {
   "cell_type": "code",
   "execution_count": 79,
   "metadata": {
    "deletable": false,
    "editable": false,
    "nbgrader": {
     "grade": true,
     "grade_id": "Question 09",
     "locked": true,
     "points": "20",
     "solution": false
    }
   },
   "outputs": [],
   "source": [
    "###\n",
    "### AUTOGRADER TEST - DO NOT REMOVE\n",
    "###\n"
   ]
  }
 ],
 "metadata": {
  "kernelspec": {
   "display_name": "Python 3",
   "language": "python",
   "name": "python3"
  },
  "language_info": {
   "codemirror_mode": {
    "name": "ipython",
    "version": 3
   },
   "file_extension": ".py",
   "mimetype": "text/x-python",
   "name": "python",
   "nbconvert_exporter": "python",
   "pygments_lexer": "ipython3",
   "version": "3.7.3"
  }
 },
 "nbformat": 4,
 "nbformat_minor": 4
}
